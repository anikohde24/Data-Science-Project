{
 "cells": [
  {
   "cell_type": "code",
   "execution_count": 13,
   "id": "904fce8f",
   "metadata": {},
   "outputs": [],
   "source": [
    "import cv2"
   ]
  },
  {
   "cell_type": "code",
   "execution_count": 14,
   "id": "1391863a",
   "metadata": {},
   "outputs": [],
   "source": [
    "smile_cascade = cv2.CascadeClassifier('haarcascade_smile.xml')"
   ]
  },
  {
   "cell_type": "code",
   "execution_count": 15,
   "id": "7fd9c32b",
   "metadata": {},
   "outputs": [
    {
     "name": "stdout",
     "output_type": "stream",
     "text": [
      "()\n"
     ]
    }
   ],
   "source": [
    "img1 = cv2.imread('WhatsApp Image 2023-06-22 at 1.32.06 PM.jpeg')\n",
    "img1_copy = img1.copy()\n",
    "smile_rects = smile_cascade.detectMultiScale(img1_copy,scaleFactor=1.8,minNeighbors=15)\n",
    "print(smile_rects)\n",
    "\n",
    "for (x,y,w,h) in smile_rects:\n",
    "    cv2.rectangle(img1_copy, (x,y), (x+w,y+h), (0,255,0),2)\n",
    "    cv2.putText(img1_copy,\"Detected\",(x,y-10),cv2.FONT_HERSHEY_SIMPLEX,0.5,(0,0,0),1)\n",
    "\n",
    "cv2.imshow(\"smile detection\",img1_copy)\n",
    "cv2.waitKey(0)\n",
    "cv2.destroyAllWindows()"
   ]
  },
  {
   "cell_type": "code",
   "execution_count": 16,
   "id": "88799443",
   "metadata": {},
   "outputs": [],
   "source": [
    "cap = cv2.VideoCapture(0)\n",
    "\n",
    "while True:\n",
    "    flag, frame = cap.read()\n",
    "    smile_rects = smile_cascade.detectMultiScale(frame, scaleFactor=1.8,minNeighbors=25, minSize=(30,30))\n",
    "#     eye_rects = eye_cascade.detectMultiScale(frame)\n",
    "    for (x,y,w,h) in smile_rects:\n",
    "        cv2.rectangle(frame, (x,y), (x+w,y+w), (0,255,0),3)\n",
    "        cv2.putText(frame,\"Detected\",(x,y-10),cv2.FONT_HERSHEY_SIMPLEX,0.5,(0,0,0),1)\n",
    "#     for (x,y,w,h) in eye_rects:\n",
    "#         cv2.rectangle(frame, (x,y), (x+w,y+w), (0,255,0),3)\n",
    "    \n",
    "    cv2.imshow(\"smile\",frame)\n",
    "\n",
    "    \n",
    "    if cv2.waitKey(1) & 0xFF == ord('q'):\n",
    "        break\n",
    "cap.release()\n",
    "cv2.destroyAllWindows()\n",
    "# and with clicking Q you will able to stop camera"
   ]
  },
  {
   "cell_type": "code",
   "execution_count": null,
   "id": "32861676",
   "metadata": {},
   "outputs": [],
   "source": []
  }
 ],
 "metadata": {
  "kernelspec": {
   "display_name": "Python 3 (ipykernel)",
   "language": "python",
   "name": "python3"
  },
  "language_info": {
   "codemirror_mode": {
    "name": "ipython",
    "version": 3
   },
   "file_extension": ".py",
   "mimetype": "text/x-python",
   "name": "python",
   "nbconvert_exporter": "python",
   "pygments_lexer": "ipython3",
   "version": "3.9.13"
  }
 },
 "nbformat": 4,
 "nbformat_minor": 5
}
