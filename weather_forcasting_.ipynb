{
  "cells": [
    {
      "cell_type": "markdown",
      "id": "0d22c164",
      "metadata": {
        "id": "0d22c164"
      },
      "source": [
        "## INTRODUCTION"
      ]
    },
    {
      "cell_type": "markdown",
      "id": "69c04fd3",
      "metadata": {
        "id": "69c04fd3"
      },
      "source": [
        "- Machine learning is a branch of artificial intelligence (AI) that involves training computer algorithms to learn patterns from data, without being explicitly programmed to do so. In other words, instead of providing rules for the computer to follow, we give it examples of what we want it to learn, and the algorithm figures out the patterns that underlie the data.\n",
        "\n",
        "- Machine learning is used to develop predictive models that can make accurate predictions about future outcomes based on past data. These models are used in a wide variety of applications, from natural language processing and computer vision to fraud detection and personalized recommendations.\n",
        "- In this project, we will be using a Weather forcasting dataset to predict whether it will be diizzy, rainy, sun, fog,snow. We willbe exploring different machine learning algorithms such as decision tree, K-nearest neighbors (KNN),logistic regression, and support vector machine (SVM) to determine which algorithm performs best for this particular problem.\n",
        "- Our goal is to build a predictive model that accurately identifies what will be the weather is , based on their tempreture information. This model will be valuable for weather forcasting team. By leveraging machine learning techniques, we can improve the accuracyand efficiency of these processes, and ultimately provide better service to our customers."
      ]
    },
    {
      "cell_type": "markdown",
      "id": "e17b18e8",
      "metadata": {
        "id": "e17b18e8"
      },
      "source": [
        "### PROBLEM STATMENT"
      ]
    },
    {
      "cell_type": "markdown",
      "id": "bff094ac",
      "metadata": {
        "id": "bff094ac"
      },
      "source": [
        "* The problem statement for this machine learning project is to predict whether  it will be diizzy, rainy, sun, fog,snow. we aim to build a predictive model that accurately identifies what will be weather. This model will help weather forcasting team to make more informed lending decisions, and identify potential natural disaster.\n",
        "* To summarize the Problem statement we are bulding a Machine learning Model to predict weather there will be diizzy, rainy, sun, fog,snow .\n"
      ]
    },
    {
      "cell_type": "markdown",
      "id": "2e78b679",
      "metadata": {
        "id": "2e78b679"
      },
      "source": [
        "### Firstly we have to import necessary Libraries for our Prediction"
      ]
    },
    {
      "cell_type": "code",
      "execution_count": 1,
      "id": "05795718",
      "metadata": {
        "id": "05795718"
      },
      "outputs": [],
      "source": [
        "import pandas as pd\n",
        "import numpy as np\n",
        "import matplotlib.pyplot as plt\n",
        "import seaborn as sns\n",
        "\n",
        "import warnings\n",
        "warnings.filterwarnings('ignore')"
      ]
    },
    {
      "cell_type": "markdown",
      "id": "151bdb8d",
      "metadata": {
        "id": "151bdb8d"
      },
      "source": [
        "### Importing the Dataset from which Algorithm can be Trained"
      ]
    },
    {
      "cell_type": "markdown",
      "id": "2be666b8",
      "metadata": {
        "id": "2be666b8"
      },
      "source": [
        "### Weather Forcasting Dataset"
      ]
    },
    {
      "cell_type": "code",
      "execution_count": 2,
      "id": "40e336a9",
      "metadata": {
        "colab": {
          "base_uri": "https://localhost:8080/",
          "height": 424
        },
        "id": "40e336a9",
        "outputId": "98ceb55f-b2bc-401e-9118-52f890d3198f"
      },
      "outputs": [
        {
          "output_type": "execute_result",
          "data": {
            "text/plain": [
              "            date  precipitation  temp_max  temp_min  wind  weather\n",
              "0     2012-01-01            0.0      12.8       5.0   4.7  drizzle\n",
              "1     2012-01-02           10.9      10.6       2.8   4.5     rain\n",
              "2     2012-01-03            0.8      11.7       7.2   2.3     rain\n",
              "3     2012-01-04           20.3      12.2       5.6   4.7     rain\n",
              "4     2012-01-05            1.3       8.9       2.8   6.1     rain\n",
              "...          ...            ...       ...       ...   ...      ...\n",
              "1456  2015-12-27            8.6       4.4       1.7   2.9     rain\n",
              "1457  2015-12-28            1.5       5.0       1.7   1.3     rain\n",
              "1458  2015-12-29            0.0       7.2       0.6   2.6      fog\n",
              "1459  2015-12-30            0.0       5.6      -1.0   3.4      sun\n",
              "1460  2015-12-31            0.0       5.6      -2.1   3.5      sun\n",
              "\n",
              "[1461 rows x 6 columns]"
            ],
            "text/html": [
              "\n",
              "  <div id=\"df-df95dbaf-4d05-4cc7-8471-00fc55f565cc\" class=\"colab-df-container\">\n",
              "    <div>\n",
              "<style scoped>\n",
              "    .dataframe tbody tr th:only-of-type {\n",
              "        vertical-align: middle;\n",
              "    }\n",
              "\n",
              "    .dataframe tbody tr th {\n",
              "        vertical-align: top;\n",
              "    }\n",
              "\n",
              "    .dataframe thead th {\n",
              "        text-align: right;\n",
              "    }\n",
              "</style>\n",
              "<table border=\"1\" class=\"dataframe\">\n",
              "  <thead>\n",
              "    <tr style=\"text-align: right;\">\n",
              "      <th></th>\n",
              "      <th>date</th>\n",
              "      <th>precipitation</th>\n",
              "      <th>temp_max</th>\n",
              "      <th>temp_min</th>\n",
              "      <th>wind</th>\n",
              "      <th>weather</th>\n",
              "    </tr>\n",
              "  </thead>\n",
              "  <tbody>\n",
              "    <tr>\n",
              "      <th>0</th>\n",
              "      <td>2012-01-01</td>\n",
              "      <td>0.0</td>\n",
              "      <td>12.8</td>\n",
              "      <td>5.0</td>\n",
              "      <td>4.7</td>\n",
              "      <td>drizzle</td>\n",
              "    </tr>\n",
              "    <tr>\n",
              "      <th>1</th>\n",
              "      <td>2012-01-02</td>\n",
              "      <td>10.9</td>\n",
              "      <td>10.6</td>\n",
              "      <td>2.8</td>\n",
              "      <td>4.5</td>\n",
              "      <td>rain</td>\n",
              "    </tr>\n",
              "    <tr>\n",
              "      <th>2</th>\n",
              "      <td>2012-01-03</td>\n",
              "      <td>0.8</td>\n",
              "      <td>11.7</td>\n",
              "      <td>7.2</td>\n",
              "      <td>2.3</td>\n",
              "      <td>rain</td>\n",
              "    </tr>\n",
              "    <tr>\n",
              "      <th>3</th>\n",
              "      <td>2012-01-04</td>\n",
              "      <td>20.3</td>\n",
              "      <td>12.2</td>\n",
              "      <td>5.6</td>\n",
              "      <td>4.7</td>\n",
              "      <td>rain</td>\n",
              "    </tr>\n",
              "    <tr>\n",
              "      <th>4</th>\n",
              "      <td>2012-01-05</td>\n",
              "      <td>1.3</td>\n",
              "      <td>8.9</td>\n",
              "      <td>2.8</td>\n",
              "      <td>6.1</td>\n",
              "      <td>rain</td>\n",
              "    </tr>\n",
              "    <tr>\n",
              "      <th>...</th>\n",
              "      <td>...</td>\n",
              "      <td>...</td>\n",
              "      <td>...</td>\n",
              "      <td>...</td>\n",
              "      <td>...</td>\n",
              "      <td>...</td>\n",
              "    </tr>\n",
              "    <tr>\n",
              "      <th>1456</th>\n",
              "      <td>2015-12-27</td>\n",
              "      <td>8.6</td>\n",
              "      <td>4.4</td>\n",
              "      <td>1.7</td>\n",
              "      <td>2.9</td>\n",
              "      <td>rain</td>\n",
              "    </tr>\n",
              "    <tr>\n",
              "      <th>1457</th>\n",
              "      <td>2015-12-28</td>\n",
              "      <td>1.5</td>\n",
              "      <td>5.0</td>\n",
              "      <td>1.7</td>\n",
              "      <td>1.3</td>\n",
              "      <td>rain</td>\n",
              "    </tr>\n",
              "    <tr>\n",
              "      <th>1458</th>\n",
              "      <td>2015-12-29</td>\n",
              "      <td>0.0</td>\n",
              "      <td>7.2</td>\n",
              "      <td>0.6</td>\n",
              "      <td>2.6</td>\n",
              "      <td>fog</td>\n",
              "    </tr>\n",
              "    <tr>\n",
              "      <th>1459</th>\n",
              "      <td>2015-12-30</td>\n",
              "      <td>0.0</td>\n",
              "      <td>5.6</td>\n",
              "      <td>-1.0</td>\n",
              "      <td>3.4</td>\n",
              "      <td>sun</td>\n",
              "    </tr>\n",
              "    <tr>\n",
              "      <th>1460</th>\n",
              "      <td>2015-12-31</td>\n",
              "      <td>0.0</td>\n",
              "      <td>5.6</td>\n",
              "      <td>-2.1</td>\n",
              "      <td>3.5</td>\n",
              "      <td>sun</td>\n",
              "    </tr>\n",
              "  </tbody>\n",
              "</table>\n",
              "<p>1461 rows × 6 columns</p>\n",
              "</div>\n",
              "    <div class=\"colab-df-buttons\">\n",
              "\n",
              "  <div class=\"colab-df-container\">\n",
              "    <button class=\"colab-df-convert\" onclick=\"convertToInteractive('df-df95dbaf-4d05-4cc7-8471-00fc55f565cc')\"\n",
              "            title=\"Convert this dataframe to an interactive table.\"\n",
              "            style=\"display:none;\">\n",
              "\n",
              "  <svg xmlns=\"http://www.w3.org/2000/svg\" height=\"24px\" viewBox=\"0 -960 960 960\">\n",
              "    <path d=\"M120-120v-720h720v720H120Zm60-500h600v-160H180v160Zm220 220h160v-160H400v160Zm0 220h160v-160H400v160ZM180-400h160v-160H180v160Zm440 0h160v-160H620v160ZM180-180h160v-160H180v160Zm440 0h160v-160H620v160Z\"/>\n",
              "  </svg>\n",
              "    </button>\n",
              "\n",
              "  <style>\n",
              "    .colab-df-container {\n",
              "      display:flex;\n",
              "      gap: 12px;\n",
              "    }\n",
              "\n",
              "    .colab-df-convert {\n",
              "      background-color: #E8F0FE;\n",
              "      border: none;\n",
              "      border-radius: 50%;\n",
              "      cursor: pointer;\n",
              "      display: none;\n",
              "      fill: #1967D2;\n",
              "      height: 32px;\n",
              "      padding: 0 0 0 0;\n",
              "      width: 32px;\n",
              "    }\n",
              "\n",
              "    .colab-df-convert:hover {\n",
              "      background-color: #E2EBFA;\n",
              "      box-shadow: 0px 1px 2px rgba(60, 64, 67, 0.3), 0px 1px 3px 1px rgba(60, 64, 67, 0.15);\n",
              "      fill: #174EA6;\n",
              "    }\n",
              "\n",
              "    .colab-df-buttons div {\n",
              "      margin-bottom: 4px;\n",
              "    }\n",
              "\n",
              "    [theme=dark] .colab-df-convert {\n",
              "      background-color: #3B4455;\n",
              "      fill: #D2E3FC;\n",
              "    }\n",
              "\n",
              "    [theme=dark] .colab-df-convert:hover {\n",
              "      background-color: #434B5C;\n",
              "      box-shadow: 0px 1px 3px 1px rgba(0, 0, 0, 0.15);\n",
              "      filter: drop-shadow(0px 1px 2px rgba(0, 0, 0, 0.3));\n",
              "      fill: #FFFFFF;\n",
              "    }\n",
              "  </style>\n",
              "\n",
              "    <script>\n",
              "      const buttonEl =\n",
              "        document.querySelector('#df-df95dbaf-4d05-4cc7-8471-00fc55f565cc button.colab-df-convert');\n",
              "      buttonEl.style.display =\n",
              "        google.colab.kernel.accessAllowed ? 'block' : 'none';\n",
              "\n",
              "      async function convertToInteractive(key) {\n",
              "        const element = document.querySelector('#df-df95dbaf-4d05-4cc7-8471-00fc55f565cc');\n",
              "        const dataTable =\n",
              "          await google.colab.kernel.invokeFunction('convertToInteractive',\n",
              "                                                    [key], {});\n",
              "        if (!dataTable) return;\n",
              "\n",
              "        const docLinkHtml = 'Like what you see? Visit the ' +\n",
              "          '<a target=\"_blank\" href=https://colab.research.google.com/notebooks/data_table.ipynb>data table notebook</a>'\n",
              "          + ' to learn more about interactive tables.';\n",
              "        element.innerHTML = '';\n",
              "        dataTable['output_type'] = 'display_data';\n",
              "        await google.colab.output.renderOutput(dataTable, element);\n",
              "        const docLink = document.createElement('div');\n",
              "        docLink.innerHTML = docLinkHtml;\n",
              "        element.appendChild(docLink);\n",
              "      }\n",
              "    </script>\n",
              "  </div>\n",
              "\n",
              "\n",
              "<div id=\"df-8c2a83b6-9a19-45fe-8fde-185ca78fab92\">\n",
              "  <button class=\"colab-df-quickchart\" onclick=\"quickchart('df-8c2a83b6-9a19-45fe-8fde-185ca78fab92')\"\n",
              "            title=\"Suggest charts\"\n",
              "            style=\"display:none;\">\n",
              "\n",
              "<svg xmlns=\"http://www.w3.org/2000/svg\" height=\"24px\"viewBox=\"0 0 24 24\"\n",
              "     width=\"24px\">\n",
              "    <g>\n",
              "        <path d=\"M19 3H5c-1.1 0-2 .9-2 2v14c0 1.1.9 2 2 2h14c1.1 0 2-.9 2-2V5c0-1.1-.9-2-2-2zM9 17H7v-7h2v7zm4 0h-2V7h2v10zm4 0h-2v-4h2v4z\"/>\n",
              "    </g>\n",
              "</svg>\n",
              "  </button>\n",
              "\n",
              "<style>\n",
              "  .colab-df-quickchart {\n",
              "      --bg-color: #E8F0FE;\n",
              "      --fill-color: #1967D2;\n",
              "      --hover-bg-color: #E2EBFA;\n",
              "      --hover-fill-color: #174EA6;\n",
              "      --disabled-fill-color: #AAA;\n",
              "      --disabled-bg-color: #DDD;\n",
              "  }\n",
              "\n",
              "  [theme=dark] .colab-df-quickchart {\n",
              "      --bg-color: #3B4455;\n",
              "      --fill-color: #D2E3FC;\n",
              "      --hover-bg-color: #434B5C;\n",
              "      --hover-fill-color: #FFFFFF;\n",
              "      --disabled-bg-color: #3B4455;\n",
              "      --disabled-fill-color: #666;\n",
              "  }\n",
              "\n",
              "  .colab-df-quickchart {\n",
              "    background-color: var(--bg-color);\n",
              "    border: none;\n",
              "    border-radius: 50%;\n",
              "    cursor: pointer;\n",
              "    display: none;\n",
              "    fill: var(--fill-color);\n",
              "    height: 32px;\n",
              "    padding: 0;\n",
              "    width: 32px;\n",
              "  }\n",
              "\n",
              "  .colab-df-quickchart:hover {\n",
              "    background-color: var(--hover-bg-color);\n",
              "    box-shadow: 0 1px 2px rgba(60, 64, 67, 0.3), 0 1px 3px 1px rgba(60, 64, 67, 0.15);\n",
              "    fill: var(--button-hover-fill-color);\n",
              "  }\n",
              "\n",
              "  .colab-df-quickchart-complete:disabled,\n",
              "  .colab-df-quickchart-complete:disabled:hover {\n",
              "    background-color: var(--disabled-bg-color);\n",
              "    fill: var(--disabled-fill-color);\n",
              "    box-shadow: none;\n",
              "  }\n",
              "\n",
              "  .colab-df-spinner {\n",
              "    border: 2px solid var(--fill-color);\n",
              "    border-color: transparent;\n",
              "    border-bottom-color: var(--fill-color);\n",
              "    animation:\n",
              "      spin 1s steps(1) infinite;\n",
              "  }\n",
              "\n",
              "  @keyframes spin {\n",
              "    0% {\n",
              "      border-color: transparent;\n",
              "      border-bottom-color: var(--fill-color);\n",
              "      border-left-color: var(--fill-color);\n",
              "    }\n",
              "    20% {\n",
              "      border-color: transparent;\n",
              "      border-left-color: var(--fill-color);\n",
              "      border-top-color: var(--fill-color);\n",
              "    }\n",
              "    30% {\n",
              "      border-color: transparent;\n",
              "      border-left-color: var(--fill-color);\n",
              "      border-top-color: var(--fill-color);\n",
              "      border-right-color: var(--fill-color);\n",
              "    }\n",
              "    40% {\n",
              "      border-color: transparent;\n",
              "      border-right-color: var(--fill-color);\n",
              "      border-top-color: var(--fill-color);\n",
              "    }\n",
              "    60% {\n",
              "      border-color: transparent;\n",
              "      border-right-color: var(--fill-color);\n",
              "    }\n",
              "    80% {\n",
              "      border-color: transparent;\n",
              "      border-right-color: var(--fill-color);\n",
              "      border-bottom-color: var(--fill-color);\n",
              "    }\n",
              "    90% {\n",
              "      border-color: transparent;\n",
              "      border-bottom-color: var(--fill-color);\n",
              "    }\n",
              "  }\n",
              "</style>\n",
              "\n",
              "  <script>\n",
              "    async function quickchart(key) {\n",
              "      const quickchartButtonEl =\n",
              "        document.querySelector('#' + key + ' button');\n",
              "      quickchartButtonEl.disabled = true;  // To prevent multiple clicks.\n",
              "      quickchartButtonEl.classList.add('colab-df-spinner');\n",
              "      try {\n",
              "        const charts = await google.colab.kernel.invokeFunction(\n",
              "            'suggestCharts', [key], {});\n",
              "      } catch (error) {\n",
              "        console.error('Error during call to suggestCharts:', error);\n",
              "      }\n",
              "      quickchartButtonEl.classList.remove('colab-df-spinner');\n",
              "      quickchartButtonEl.classList.add('colab-df-quickchart-complete');\n",
              "    }\n",
              "    (() => {\n",
              "      let quickchartButtonEl =\n",
              "        document.querySelector('#df-8c2a83b6-9a19-45fe-8fde-185ca78fab92 button');\n",
              "      quickchartButtonEl.style.display =\n",
              "        google.colab.kernel.accessAllowed ? 'block' : 'none';\n",
              "    })();\n",
              "  </script>\n",
              "</div>\n",
              "\n",
              "  <div id=\"id_f10bc152-3190-4bd1-b144-0d22e8f7abb8\">\n",
              "    <style>\n",
              "      .colab-df-generate {\n",
              "        background-color: #E8F0FE;\n",
              "        border: none;\n",
              "        border-radius: 50%;\n",
              "        cursor: pointer;\n",
              "        display: none;\n",
              "        fill: #1967D2;\n",
              "        height: 32px;\n",
              "        padding: 0 0 0 0;\n",
              "        width: 32px;\n",
              "      }\n",
              "\n",
              "      .colab-df-generate:hover {\n",
              "        background-color: #E2EBFA;\n",
              "        box-shadow: 0px 1px 2px rgba(60, 64, 67, 0.3), 0px 1px 3px 1px rgba(60, 64, 67, 0.15);\n",
              "        fill: #174EA6;\n",
              "      }\n",
              "\n",
              "      [theme=dark] .colab-df-generate {\n",
              "        background-color: #3B4455;\n",
              "        fill: #D2E3FC;\n",
              "      }\n",
              "\n",
              "      [theme=dark] .colab-df-generate:hover {\n",
              "        background-color: #434B5C;\n",
              "        box-shadow: 0px 1px 3px 1px rgba(0, 0, 0, 0.15);\n",
              "        filter: drop-shadow(0px 1px 2px rgba(0, 0, 0, 0.3));\n",
              "        fill: #FFFFFF;\n",
              "      }\n",
              "    </style>\n",
              "    <button class=\"colab-df-generate\" onclick=\"generateWithVariable('df')\"\n",
              "            title=\"Generate code using this dataframe.\"\n",
              "            style=\"display:none;\">\n",
              "\n",
              "  <svg xmlns=\"http://www.w3.org/2000/svg\" height=\"24px\"viewBox=\"0 0 24 24\"\n",
              "       width=\"24px\">\n",
              "    <path d=\"M7,19H8.4L18.45,9,17,7.55,7,17.6ZM5,21V16.75L18.45,3.32a2,2,0,0,1,2.83,0l1.4,1.43a1.91,1.91,0,0,1,.58,1.4,1.91,1.91,0,0,1-.58,1.4L9.25,21ZM18.45,9,17,7.55Zm-12,3A5.31,5.31,0,0,0,4.9,8.1,5.31,5.31,0,0,0,1,6.5,5.31,5.31,0,0,0,4.9,4.9,5.31,5.31,0,0,0,6.5,1,5.31,5.31,0,0,0,8.1,4.9,5.31,5.31,0,0,0,12,6.5,5.46,5.46,0,0,0,6.5,12Z\"/>\n",
              "  </svg>\n",
              "    </button>\n",
              "    <script>\n",
              "      (() => {\n",
              "      const buttonEl =\n",
              "        document.querySelector('#id_f10bc152-3190-4bd1-b144-0d22e8f7abb8 button.colab-df-generate');\n",
              "      buttonEl.style.display =\n",
              "        google.colab.kernel.accessAllowed ? 'block' : 'none';\n",
              "\n",
              "      buttonEl.onclick = () => {\n",
              "        google.colab.notebook.generateWithVariable('df');\n",
              "      }\n",
              "      })();\n",
              "    </script>\n",
              "  </div>\n",
              "\n",
              "    </div>\n",
              "  </div>\n"
            ]
          },
          "metadata": {},
          "execution_count": 2
        }
      ],
      "source": [
        "df = pd.read_csv(r'/content/seattle-weather.csv')\n",
        "df"
      ]
    },
    {
      "cell_type": "markdown",
      "id": "7b41ef27",
      "metadata": {
        "id": "7b41ef27"
      },
      "source": [
        "### Data Description"
      ]
    },
    {
      "cell_type": "markdown",
      "id": "253c5749",
      "metadata": {
        "id": "253c5749"
      },
      "source": [
        "#### Given are the columns is the dataset"
      ]
    },
    {
      "cell_type": "code",
      "source": [
        "df.shape"
      ],
      "metadata": {
        "colab": {
          "base_uri": "https://localhost:8080/"
        },
        "id": "yNu0TsbxswEl",
        "outputId": "fdbb9ff8-6e90-4e78-f534-3b3cc46f7256"
      },
      "id": "yNu0TsbxswEl",
      "execution_count": 3,
      "outputs": [
        {
          "output_type": "execute_result",
          "data": {
            "text/plain": [
              "(1461, 6)"
            ]
          },
          "metadata": {},
          "execution_count": 3
        }
      ]
    },
    {
      "cell_type": "code",
      "execution_count": 4,
      "id": "889e4124",
      "metadata": {
        "colab": {
          "base_uri": "https://localhost:8080/"
        },
        "id": "889e4124",
        "outputId": "366c2b60-8b07-4032-8d3e-94ba5cca817d"
      },
      "outputs": [
        {
          "output_type": "execute_result",
          "data": {
            "text/plain": [
              "Index(['date', 'precipitation', 'temp_max', 'temp_min', 'wind', 'weather'], dtype='object')"
            ]
          },
          "metadata": {},
          "execution_count": 4
        }
      ],
      "source": [
        "df.columns"
      ]
    },
    {
      "cell_type": "markdown",
      "id": "b40aa5ac",
      "metadata": {
        "id": "b40aa5ac"
      },
      "source": [
        "#### Now the next step is to check the null values in the data"
      ]
    },
    {
      "cell_type": "code",
      "execution_count": 5,
      "id": "efcaa6b6",
      "metadata": {
        "colab": {
          "base_uri": "https://localhost:8080/"
        },
        "id": "efcaa6b6",
        "outputId": "71e074f5-a790-4ba4-df3c-46984e1a85c2"
      },
      "outputs": [
        {
          "output_type": "execute_result",
          "data": {
            "text/plain": [
              "date             0\n",
              "precipitation    0\n",
              "temp_max         0\n",
              "temp_min         0\n",
              "wind             0\n",
              "weather          0\n",
              "dtype: int64"
            ]
          },
          "metadata": {},
          "execution_count": 5
        }
      ],
      "source": [
        "df.isnull().sum()"
      ]
    },
    {
      "cell_type": "markdown",
      "id": "5e70f468",
      "metadata": {
        "id": "5e70f468"
      },
      "source": [
        "#### Now the next step is to check the info of the data"
      ]
    },
    {
      "cell_type": "code",
      "execution_count": 6,
      "id": "af3b85ff",
      "metadata": {
        "scrolled": true,
        "colab": {
          "base_uri": "https://localhost:8080/"
        },
        "id": "af3b85ff",
        "outputId": "e1513c1a-e1ee-45d5-c9e6-aca9f145f0f4"
      },
      "outputs": [
        {
          "output_type": "stream",
          "name": "stdout",
          "text": [
            "<class 'pandas.core.frame.DataFrame'>\n",
            "RangeIndex: 1461 entries, 0 to 1460\n",
            "Data columns (total 6 columns):\n",
            " #   Column         Non-Null Count  Dtype  \n",
            "---  ------         --------------  -----  \n",
            " 0   date           1461 non-null   object \n",
            " 1   precipitation  1461 non-null   float64\n",
            " 2   temp_max       1461 non-null   float64\n",
            " 3   temp_min       1461 non-null   float64\n",
            " 4   wind           1461 non-null   float64\n",
            " 5   weather        1461 non-null   object \n",
            "dtypes: float64(4), object(2)\n",
            "memory usage: 68.6+ KB\n"
          ]
        }
      ],
      "source": [
        "df.info()"
      ]
    },
    {
      "cell_type": "code",
      "source": [
        "df.drop('date',axis =1 ,inplace=True)"
      ],
      "metadata": {
        "id": "k7m5MhgrnZ1w"
      },
      "id": "k7m5MhgrnZ1w",
      "execution_count": 7,
      "outputs": []
    },
    {
      "cell_type": "markdown",
      "id": "6114939e",
      "metadata": {
        "id": "6114939e"
      },
      "source": [
        "#### Here all the columns are not in integer so we will apply ordinal encoder to that columns"
      ]
    },
    {
      "cell_type": "code",
      "execution_count": 8,
      "id": "c6878a9e",
      "metadata": {
        "id": "c6878a9e"
      },
      "outputs": [],
      "source": [
        "from sklearn.preprocessing import OrdinalEncoder\n",
        "oe = OrdinalEncoder()"
      ]
    },
    {
      "cell_type": "code",
      "execution_count": 9,
      "id": "5b20fdf0",
      "metadata": {
        "colab": {
          "base_uri": "https://localhost:8080/"
        },
        "id": "5b20fdf0",
        "outputId": "824e6ab5-82f2-446b-8747-b46ad0d1f7af"
      },
      "outputs": [
        {
          "output_type": "execute_result",
          "data": {
            "text/plain": [
              "array([[0.],\n",
              "       [2.],\n",
              "       [2.],\n",
              "       ...,\n",
              "       [1.],\n",
              "       [4.],\n",
              "       [4.]])"
            ]
          },
          "metadata": {},
          "execution_count": 9
        }
      ],
      "source": [
        "oe.fit_transform(df['weather'].values.reshape(-1, 1))"
      ]
    },
    {
      "cell_type": "code",
      "execution_count": 10,
      "id": "e2702417",
      "metadata": {
        "colab": {
          "base_uri": "https://localhost:8080/"
        },
        "id": "e2702417",
        "outputId": "2c6116d8-365f-4d68-9eb7-f6418858eb30"
      },
      "outputs": [
        {
          "output_type": "execute_result",
          "data": {
            "text/plain": [
              "Index(['weather'], dtype='object')"
            ]
          },
          "metadata": {},
          "execution_count": 10
        }
      ],
      "source": [
        "df.select_dtypes('object').columns"
      ]
    },
    {
      "cell_type": "code",
      "execution_count": 11,
      "id": "a576228d",
      "metadata": {
        "id": "a576228d"
      },
      "outputs": [],
      "source": [
        "dw = df.select_dtypes('object').columns"
      ]
    },
    {
      "cell_type": "code",
      "execution_count": 12,
      "id": "cb6c817d",
      "metadata": {
        "colab": {
          "base_uri": "https://localhost:8080/"
        },
        "id": "cb6c817d",
        "outputId": "aa29edc8-ab37-4e6e-829c-56da8812d16c"
      },
      "outputs": [
        {
          "output_type": "execute_result",
          "data": {
            "text/plain": [
              "array([[0.],\n",
              "       [2.],\n",
              "       [2.],\n",
              "       ...,\n",
              "       [1.],\n",
              "       [4.],\n",
              "       [4.]])"
            ]
          },
          "metadata": {},
          "execution_count": 12
        }
      ],
      "source": [
        "oe.fit_transform(df[dw])"
      ]
    },
    {
      "cell_type": "code",
      "source": [
        "df['weather'].value_counts()"
      ],
      "metadata": {
        "colab": {
          "base_uri": "https://localhost:8080/"
        },
        "id": "yzo6fPfsJTy4",
        "outputId": "55d2d26c-7bbd-466d-f79b-dd0166f33b46"
      },
      "id": "yzo6fPfsJTy4",
      "execution_count": 13,
      "outputs": [
        {
          "output_type": "execute_result",
          "data": {
            "text/plain": [
              "rain       641\n",
              "sun        640\n",
              "fog        101\n",
              "drizzle     53\n",
              "snow        26\n",
              "Name: weather, dtype: int64"
            ]
          },
          "metadata": {},
          "execution_count": 13
        }
      ]
    },
    {
      "cell_type": "code",
      "source": [
        "#pip install imblearn"
      ],
      "metadata": {
        "id": "Qs9JI7VLMgh2"
      },
      "id": "Qs9JI7VLMgh2",
      "execution_count": 14,
      "outputs": []
    },
    {
      "cell_type": "code",
      "source": [
        "from imblearn.over_sampling import RandomOverSampler"
      ],
      "metadata": {
        "id": "2AiRPk1NNEm9"
      },
      "id": "2AiRPk1NNEm9",
      "execution_count": 15,
      "outputs": []
    },
    {
      "cell_type": "code",
      "execution_count": 16,
      "id": "b4dea4ab",
      "metadata": {
        "id": "b4dea4ab"
      },
      "outputs": [],
      "source": [
        "df[dw]= oe.fit_transform(df[dw])"
      ]
    },
    {
      "cell_type": "code",
      "execution_count": 17,
      "id": "10e9aa3e",
      "metadata": {
        "scrolled": true,
        "colab": {
          "base_uri": "https://localhost:8080/",
          "height": 424
        },
        "id": "10e9aa3e",
        "outputId": "b4580c1c-dff0-4bf4-8d24-c84cad7472a9"
      },
      "outputs": [
        {
          "output_type": "execute_result",
          "data": {
            "text/plain": [
              "      precipitation  temp_max  temp_min  wind  weather\n",
              "0               0.0      12.8       5.0   4.7      0.0\n",
              "1              10.9      10.6       2.8   4.5      2.0\n",
              "2               0.8      11.7       7.2   2.3      2.0\n",
              "3              20.3      12.2       5.6   4.7      2.0\n",
              "4               1.3       8.9       2.8   6.1      2.0\n",
              "...             ...       ...       ...   ...      ...\n",
              "1456            8.6       4.4       1.7   2.9      2.0\n",
              "1457            1.5       5.0       1.7   1.3      2.0\n",
              "1458            0.0       7.2       0.6   2.6      1.0\n",
              "1459            0.0       5.6      -1.0   3.4      4.0\n",
              "1460            0.0       5.6      -2.1   3.5      4.0\n",
              "\n",
              "[1461 rows x 5 columns]"
            ],
            "text/html": [
              "\n",
              "  <div id=\"df-f687056f-e783-4e7f-af73-7f5cc19b8f2a\" class=\"colab-df-container\">\n",
              "    <div>\n",
              "<style scoped>\n",
              "    .dataframe tbody tr th:only-of-type {\n",
              "        vertical-align: middle;\n",
              "    }\n",
              "\n",
              "    .dataframe tbody tr th {\n",
              "        vertical-align: top;\n",
              "    }\n",
              "\n",
              "    .dataframe thead th {\n",
              "        text-align: right;\n",
              "    }\n",
              "</style>\n",
              "<table border=\"1\" class=\"dataframe\">\n",
              "  <thead>\n",
              "    <tr style=\"text-align: right;\">\n",
              "      <th></th>\n",
              "      <th>precipitation</th>\n",
              "      <th>temp_max</th>\n",
              "      <th>temp_min</th>\n",
              "      <th>wind</th>\n",
              "      <th>weather</th>\n",
              "    </tr>\n",
              "  </thead>\n",
              "  <tbody>\n",
              "    <tr>\n",
              "      <th>0</th>\n",
              "      <td>0.0</td>\n",
              "      <td>12.8</td>\n",
              "      <td>5.0</td>\n",
              "      <td>4.7</td>\n",
              "      <td>0.0</td>\n",
              "    </tr>\n",
              "    <tr>\n",
              "      <th>1</th>\n",
              "      <td>10.9</td>\n",
              "      <td>10.6</td>\n",
              "      <td>2.8</td>\n",
              "      <td>4.5</td>\n",
              "      <td>2.0</td>\n",
              "    </tr>\n",
              "    <tr>\n",
              "      <th>2</th>\n",
              "      <td>0.8</td>\n",
              "      <td>11.7</td>\n",
              "      <td>7.2</td>\n",
              "      <td>2.3</td>\n",
              "      <td>2.0</td>\n",
              "    </tr>\n",
              "    <tr>\n",
              "      <th>3</th>\n",
              "      <td>20.3</td>\n",
              "      <td>12.2</td>\n",
              "      <td>5.6</td>\n",
              "      <td>4.7</td>\n",
              "      <td>2.0</td>\n",
              "    </tr>\n",
              "    <tr>\n",
              "      <th>4</th>\n",
              "      <td>1.3</td>\n",
              "      <td>8.9</td>\n",
              "      <td>2.8</td>\n",
              "      <td>6.1</td>\n",
              "      <td>2.0</td>\n",
              "    </tr>\n",
              "    <tr>\n",
              "      <th>...</th>\n",
              "      <td>...</td>\n",
              "      <td>...</td>\n",
              "      <td>...</td>\n",
              "      <td>...</td>\n",
              "      <td>...</td>\n",
              "    </tr>\n",
              "    <tr>\n",
              "      <th>1456</th>\n",
              "      <td>8.6</td>\n",
              "      <td>4.4</td>\n",
              "      <td>1.7</td>\n",
              "      <td>2.9</td>\n",
              "      <td>2.0</td>\n",
              "    </tr>\n",
              "    <tr>\n",
              "      <th>1457</th>\n",
              "      <td>1.5</td>\n",
              "      <td>5.0</td>\n",
              "      <td>1.7</td>\n",
              "      <td>1.3</td>\n",
              "      <td>2.0</td>\n",
              "    </tr>\n",
              "    <tr>\n",
              "      <th>1458</th>\n",
              "      <td>0.0</td>\n",
              "      <td>7.2</td>\n",
              "      <td>0.6</td>\n",
              "      <td>2.6</td>\n",
              "      <td>1.0</td>\n",
              "    </tr>\n",
              "    <tr>\n",
              "      <th>1459</th>\n",
              "      <td>0.0</td>\n",
              "      <td>5.6</td>\n",
              "      <td>-1.0</td>\n",
              "      <td>3.4</td>\n",
              "      <td>4.0</td>\n",
              "    </tr>\n",
              "    <tr>\n",
              "      <th>1460</th>\n",
              "      <td>0.0</td>\n",
              "      <td>5.6</td>\n",
              "      <td>-2.1</td>\n",
              "      <td>3.5</td>\n",
              "      <td>4.0</td>\n",
              "    </tr>\n",
              "  </tbody>\n",
              "</table>\n",
              "<p>1461 rows × 5 columns</p>\n",
              "</div>\n",
              "    <div class=\"colab-df-buttons\">\n",
              "\n",
              "  <div class=\"colab-df-container\">\n",
              "    <button class=\"colab-df-convert\" onclick=\"convertToInteractive('df-f687056f-e783-4e7f-af73-7f5cc19b8f2a')\"\n",
              "            title=\"Convert this dataframe to an interactive table.\"\n",
              "            style=\"display:none;\">\n",
              "\n",
              "  <svg xmlns=\"http://www.w3.org/2000/svg\" height=\"24px\" viewBox=\"0 -960 960 960\">\n",
              "    <path d=\"M120-120v-720h720v720H120Zm60-500h600v-160H180v160Zm220 220h160v-160H400v160Zm0 220h160v-160H400v160ZM180-400h160v-160H180v160Zm440 0h160v-160H620v160ZM180-180h160v-160H180v160Zm440 0h160v-160H620v160Z\"/>\n",
              "  </svg>\n",
              "    </button>\n",
              "\n",
              "  <style>\n",
              "    .colab-df-container {\n",
              "      display:flex;\n",
              "      gap: 12px;\n",
              "    }\n",
              "\n",
              "    .colab-df-convert {\n",
              "      background-color: #E8F0FE;\n",
              "      border: none;\n",
              "      border-radius: 50%;\n",
              "      cursor: pointer;\n",
              "      display: none;\n",
              "      fill: #1967D2;\n",
              "      height: 32px;\n",
              "      padding: 0 0 0 0;\n",
              "      width: 32px;\n",
              "    }\n",
              "\n",
              "    .colab-df-convert:hover {\n",
              "      background-color: #E2EBFA;\n",
              "      box-shadow: 0px 1px 2px rgba(60, 64, 67, 0.3), 0px 1px 3px 1px rgba(60, 64, 67, 0.15);\n",
              "      fill: #174EA6;\n",
              "    }\n",
              "\n",
              "    .colab-df-buttons div {\n",
              "      margin-bottom: 4px;\n",
              "    }\n",
              "\n",
              "    [theme=dark] .colab-df-convert {\n",
              "      background-color: #3B4455;\n",
              "      fill: #D2E3FC;\n",
              "    }\n",
              "\n",
              "    [theme=dark] .colab-df-convert:hover {\n",
              "      background-color: #434B5C;\n",
              "      box-shadow: 0px 1px 3px 1px rgba(0, 0, 0, 0.15);\n",
              "      filter: drop-shadow(0px 1px 2px rgba(0, 0, 0, 0.3));\n",
              "      fill: #FFFFFF;\n",
              "    }\n",
              "  </style>\n",
              "\n",
              "    <script>\n",
              "      const buttonEl =\n",
              "        document.querySelector('#df-f687056f-e783-4e7f-af73-7f5cc19b8f2a button.colab-df-convert');\n",
              "      buttonEl.style.display =\n",
              "        google.colab.kernel.accessAllowed ? 'block' : 'none';\n",
              "\n",
              "      async function convertToInteractive(key) {\n",
              "        const element = document.querySelector('#df-f687056f-e783-4e7f-af73-7f5cc19b8f2a');\n",
              "        const dataTable =\n",
              "          await google.colab.kernel.invokeFunction('convertToInteractive',\n",
              "                                                    [key], {});\n",
              "        if (!dataTable) return;\n",
              "\n",
              "        const docLinkHtml = 'Like what you see? Visit the ' +\n",
              "          '<a target=\"_blank\" href=https://colab.research.google.com/notebooks/data_table.ipynb>data table notebook</a>'\n",
              "          + ' to learn more about interactive tables.';\n",
              "        element.innerHTML = '';\n",
              "        dataTable['output_type'] = 'display_data';\n",
              "        await google.colab.output.renderOutput(dataTable, element);\n",
              "        const docLink = document.createElement('div');\n",
              "        docLink.innerHTML = docLinkHtml;\n",
              "        element.appendChild(docLink);\n",
              "      }\n",
              "    </script>\n",
              "  </div>\n",
              "\n",
              "\n",
              "<div id=\"df-97963646-9891-4939-a3c3-50be361e7067\">\n",
              "  <button class=\"colab-df-quickchart\" onclick=\"quickchart('df-97963646-9891-4939-a3c3-50be361e7067')\"\n",
              "            title=\"Suggest charts\"\n",
              "            style=\"display:none;\">\n",
              "\n",
              "<svg xmlns=\"http://www.w3.org/2000/svg\" height=\"24px\"viewBox=\"0 0 24 24\"\n",
              "     width=\"24px\">\n",
              "    <g>\n",
              "        <path d=\"M19 3H5c-1.1 0-2 .9-2 2v14c0 1.1.9 2 2 2h14c1.1 0 2-.9 2-2V5c0-1.1-.9-2-2-2zM9 17H7v-7h2v7zm4 0h-2V7h2v10zm4 0h-2v-4h2v4z\"/>\n",
              "    </g>\n",
              "</svg>\n",
              "  </button>\n",
              "\n",
              "<style>\n",
              "  .colab-df-quickchart {\n",
              "      --bg-color: #E8F0FE;\n",
              "      --fill-color: #1967D2;\n",
              "      --hover-bg-color: #E2EBFA;\n",
              "      --hover-fill-color: #174EA6;\n",
              "      --disabled-fill-color: #AAA;\n",
              "      --disabled-bg-color: #DDD;\n",
              "  }\n",
              "\n",
              "  [theme=dark] .colab-df-quickchart {\n",
              "      --bg-color: #3B4455;\n",
              "      --fill-color: #D2E3FC;\n",
              "      --hover-bg-color: #434B5C;\n",
              "      --hover-fill-color: #FFFFFF;\n",
              "      --disabled-bg-color: #3B4455;\n",
              "      --disabled-fill-color: #666;\n",
              "  }\n",
              "\n",
              "  .colab-df-quickchart {\n",
              "    background-color: var(--bg-color);\n",
              "    border: none;\n",
              "    border-radius: 50%;\n",
              "    cursor: pointer;\n",
              "    display: none;\n",
              "    fill: var(--fill-color);\n",
              "    height: 32px;\n",
              "    padding: 0;\n",
              "    width: 32px;\n",
              "  }\n",
              "\n",
              "  .colab-df-quickchart:hover {\n",
              "    background-color: var(--hover-bg-color);\n",
              "    box-shadow: 0 1px 2px rgba(60, 64, 67, 0.3), 0 1px 3px 1px rgba(60, 64, 67, 0.15);\n",
              "    fill: var(--button-hover-fill-color);\n",
              "  }\n",
              "\n",
              "  .colab-df-quickchart-complete:disabled,\n",
              "  .colab-df-quickchart-complete:disabled:hover {\n",
              "    background-color: var(--disabled-bg-color);\n",
              "    fill: var(--disabled-fill-color);\n",
              "    box-shadow: none;\n",
              "  }\n",
              "\n",
              "  .colab-df-spinner {\n",
              "    border: 2px solid var(--fill-color);\n",
              "    border-color: transparent;\n",
              "    border-bottom-color: var(--fill-color);\n",
              "    animation:\n",
              "      spin 1s steps(1) infinite;\n",
              "  }\n",
              "\n",
              "  @keyframes spin {\n",
              "    0% {\n",
              "      border-color: transparent;\n",
              "      border-bottom-color: var(--fill-color);\n",
              "      border-left-color: var(--fill-color);\n",
              "    }\n",
              "    20% {\n",
              "      border-color: transparent;\n",
              "      border-left-color: var(--fill-color);\n",
              "      border-top-color: var(--fill-color);\n",
              "    }\n",
              "    30% {\n",
              "      border-color: transparent;\n",
              "      border-left-color: var(--fill-color);\n",
              "      border-top-color: var(--fill-color);\n",
              "      border-right-color: var(--fill-color);\n",
              "    }\n",
              "    40% {\n",
              "      border-color: transparent;\n",
              "      border-right-color: var(--fill-color);\n",
              "      border-top-color: var(--fill-color);\n",
              "    }\n",
              "    60% {\n",
              "      border-color: transparent;\n",
              "      border-right-color: var(--fill-color);\n",
              "    }\n",
              "    80% {\n",
              "      border-color: transparent;\n",
              "      border-right-color: var(--fill-color);\n",
              "      border-bottom-color: var(--fill-color);\n",
              "    }\n",
              "    90% {\n",
              "      border-color: transparent;\n",
              "      border-bottom-color: var(--fill-color);\n",
              "    }\n",
              "  }\n",
              "</style>\n",
              "\n",
              "  <script>\n",
              "    async function quickchart(key) {\n",
              "      const quickchartButtonEl =\n",
              "        document.querySelector('#' + key + ' button');\n",
              "      quickchartButtonEl.disabled = true;  // To prevent multiple clicks.\n",
              "      quickchartButtonEl.classList.add('colab-df-spinner');\n",
              "      try {\n",
              "        const charts = await google.colab.kernel.invokeFunction(\n",
              "            'suggestCharts', [key], {});\n",
              "      } catch (error) {\n",
              "        console.error('Error during call to suggestCharts:', error);\n",
              "      }\n",
              "      quickchartButtonEl.classList.remove('colab-df-spinner');\n",
              "      quickchartButtonEl.classList.add('colab-df-quickchart-complete');\n",
              "    }\n",
              "    (() => {\n",
              "      let quickchartButtonEl =\n",
              "        document.querySelector('#df-97963646-9891-4939-a3c3-50be361e7067 button');\n",
              "      quickchartButtonEl.style.display =\n",
              "        google.colab.kernel.accessAllowed ? 'block' : 'none';\n",
              "    })();\n",
              "  </script>\n",
              "</div>\n",
              "\n",
              "  <div id=\"id_09c878f5-fa7b-45b9-af25-65698ff85ad5\">\n",
              "    <style>\n",
              "      .colab-df-generate {\n",
              "        background-color: #E8F0FE;\n",
              "        border: none;\n",
              "        border-radius: 50%;\n",
              "        cursor: pointer;\n",
              "        display: none;\n",
              "        fill: #1967D2;\n",
              "        height: 32px;\n",
              "        padding: 0 0 0 0;\n",
              "        width: 32px;\n",
              "      }\n",
              "\n",
              "      .colab-df-generate:hover {\n",
              "        background-color: #E2EBFA;\n",
              "        box-shadow: 0px 1px 2px rgba(60, 64, 67, 0.3), 0px 1px 3px 1px rgba(60, 64, 67, 0.15);\n",
              "        fill: #174EA6;\n",
              "      }\n",
              "\n",
              "      [theme=dark] .colab-df-generate {\n",
              "        background-color: #3B4455;\n",
              "        fill: #D2E3FC;\n",
              "      }\n",
              "\n",
              "      [theme=dark] .colab-df-generate:hover {\n",
              "        background-color: #434B5C;\n",
              "        box-shadow: 0px 1px 3px 1px rgba(0, 0, 0, 0.15);\n",
              "        filter: drop-shadow(0px 1px 2px rgba(0, 0, 0, 0.3));\n",
              "        fill: #FFFFFF;\n",
              "      }\n",
              "    </style>\n",
              "    <button class=\"colab-df-generate\" onclick=\"generateWithVariable('df')\"\n",
              "            title=\"Generate code using this dataframe.\"\n",
              "            style=\"display:none;\">\n",
              "\n",
              "  <svg xmlns=\"http://www.w3.org/2000/svg\" height=\"24px\"viewBox=\"0 0 24 24\"\n",
              "       width=\"24px\">\n",
              "    <path d=\"M7,19H8.4L18.45,9,17,7.55,7,17.6ZM5,21V16.75L18.45,3.32a2,2,0,0,1,2.83,0l1.4,1.43a1.91,1.91,0,0,1,.58,1.4,1.91,1.91,0,0,1-.58,1.4L9.25,21ZM18.45,9,17,7.55Zm-12,3A5.31,5.31,0,0,0,4.9,8.1,5.31,5.31,0,0,0,1,6.5,5.31,5.31,0,0,0,4.9,4.9,5.31,5.31,0,0,0,6.5,1,5.31,5.31,0,0,0,8.1,4.9,5.31,5.31,0,0,0,12,6.5,5.46,5.46,0,0,0,6.5,12Z\"/>\n",
              "  </svg>\n",
              "    </button>\n",
              "    <script>\n",
              "      (() => {\n",
              "      const buttonEl =\n",
              "        document.querySelector('#id_09c878f5-fa7b-45b9-af25-65698ff85ad5 button.colab-df-generate');\n",
              "      buttonEl.style.display =\n",
              "        google.colab.kernel.accessAllowed ? 'block' : 'none';\n",
              "\n",
              "      buttonEl.onclick = () => {\n",
              "        google.colab.notebook.generateWithVariable('df');\n",
              "      }\n",
              "      })();\n",
              "    </script>\n",
              "  </div>\n",
              "\n",
              "    </div>\n",
              "  </div>\n"
            ]
          },
          "metadata": {},
          "execution_count": 17
        }
      ],
      "source": [
        "df"
      ]
    },
    {
      "cell_type": "markdown",
      "id": "e2312ac8",
      "metadata": {
        "id": "e2312ac8"
      },
      "source": [
        "### Now we will build some insights from the data through various graphical representation"
      ]
    },
    {
      "cell_type": "markdown",
      "id": "b738a3b3",
      "metadata": {
        "id": "b738a3b3"
      },
      "source": [
        "#### count plot"
      ]
    },
    {
      "cell_type": "markdown",
      "id": "59fe2f4b",
      "metadata": {
        "id": "59fe2f4b"
      },
      "source": [
        "##### This Graph represents on which day most of the deposits are made"
      ]
    },
    {
      "cell_type": "code",
      "execution_count": 57,
      "id": "34ea6b60",
      "metadata": {
        "colab": {
          "base_uri": "https://localhost:8080/",
          "height": 850
        },
        "id": "34ea6b60",
        "outputId": "fb133822-a820-4ec8-dc80-3b37f4fb6ef6"
      },
      "outputs": [
        {
          "output_type": "display_data",
          "data": {
            "text/plain": [
              "<Figure size 700x1000 with 1 Axes>"
            ],
            "image/png": "[encoded data removed]"
          },
          "metadata": {}
        }
      ],
      "source": [
        "plt.figure(figsize= (7,10))\n",
        "sns.countplot(y =df['weather'],data = df,dodge=False,palette='colorblind')\n",
        "plt.show()"
      ]
    },
    {
      "cell_type": "markdown",
      "id": "a9fb3d49",
      "metadata": {
        "id": "a9fb3d49"
      },
      "source": [
        "### Regression Line"
      ]
    },
    {
      "cell_type": "code",
      "execution_count": 59,
      "id": "22f31a8c",
      "metadata": {
        "colab": {
          "base_uri": "https://localhost:8080/",
          "height": 507
        },
        "id": "22f31a8c",
        "outputId": "907aaae9-46cc-41f1-a595-7e1314bfd090"
      },
      "outputs": [
        {
          "output_type": "display_data",
          "data": {
            "text/plain": [
              "<Figure size 600x700 with 0 Axes>"
            ]
          },
          "metadata": {}
        },
        {
          "output_type": "display_data",
          "data": {
            "text/plain": [
              "<Figure size 1400x700 with 3 Axes>"
            ],
            "image/png": "[encoded data removed]"
          },
          "metadata": {}
        }
      ],
      "source": [
        "plt.figure(figsize = (6,7))\n",
        "sns.pairplot(x_vars=['temp_max','weather'],data=df,y_vars='weather',kind='reg',size = 7)\n",
        "plt.show()"
      ]
    },
    {
      "cell_type": "code",
      "source": [
        "plt.figure(figsize = (6,7))\n",
        "sns.pairplot(x_vars=['temp_min','weather'],data=df,y_vars='weather',kind='reg',size = 7)\n",
        "plt.show()"
      ],
      "metadata": {
        "colab": {
          "base_uri": "https://localhost:8080/",
          "height": 507
        },
        "id": "gH6Q5cnIeal7",
        "outputId": "860400dc-fba1-43d5-cda1-e79eeac1ba69"
      },
      "id": "gH6Q5cnIeal7",
      "execution_count": 60,
      "outputs": [
        {
          "output_type": "display_data",
          "data": {
            "text/plain": [
              "<Figure size 600x700 with 0 Axes>"
            ]
          },
          "metadata": {}
        },
        {
          "output_type": "display_data",
          "data": {
            "text/plain": [
              "<Figure size 1400x700 with 3 Axes>"
            ],
            "image/png": "[encoded data removed]"
          },
          "metadata": {}
        }
      ]
    },
    {
      "cell_type": "markdown",
      "id": "96ca8a10",
      "metadata": {
        "id": "96ca8a10"
      },
      "source": [
        "### Pie Chart"
      ]
    },
    {
      "cell_type": "markdown",
      "id": "b0b8d829",
      "metadata": {
        "id": "b0b8d829"
      },
      "source": [
        "An infromation that provides ratio between wind flow"
      ]
    },
    {
      "cell_type": "code",
      "execution_count": 61,
      "id": "ae1ea482",
      "metadata": {
        "scrolled": false,
        "colab": {
          "base_uri": "https://localhost:8080/",
          "height": 501
        },
        "id": "ae1ea482",
        "outputId": "6b5cd0f8-c40b-46dd-fd50-1cf1dadb1824"
      },
      "outputs": [
        {
          "output_type": "display_data",
          "data": {
            "text/plain": [
              "<Figure size 600x700 with 1 Axes>"
            ],
            "image/png": "[encoded data removed]"
          },
          "metadata": {}
        }
      ],
      "source": [
        "plt.figure(figsize = (6,7))\n",
        "df['weather'].value_counts().plot(kind = 'pie',autopct = '%1.2f%%')\n",
        "plt.show()"
      ]
    },
    {
      "cell_type": "markdown",
      "id": "1a2636c0",
      "metadata": {
        "id": "1a2636c0"
      },
      "source": [
        "Here it shows us maximum Tempreture show"
      ]
    },
    {
      "cell_type": "markdown",
      "id": "9a60a16f",
      "metadata": {
        "id": "9a60a16f"
      },
      "source": [
        "### Correlation"
      ]
    },
    {
      "cell_type": "code",
      "execution_count": 24,
      "id": "6d80de1a",
      "metadata": {
        "colab": {
          "base_uri": "https://localhost:8080/",
          "height": 206
        },
        "id": "6d80de1a",
        "outputId": "13fa4e9b-fb1b-439e-f856-37af295f5dda"
      },
      "outputs": [
        {
          "output_type": "execute_result",
          "data": {
            "text/plain": [
              "               precipitation  temp_max  temp_min      wind   weather\n",
              "precipitation       1.000000 -0.228555 -0.072684  0.328045 -0.267388\n",
              "temp_max           -0.228555  1.000000  0.875687 -0.164857  0.322337\n",
              "temp_min           -0.072684  0.875687  1.000000 -0.074185  0.154981\n",
              "wind                0.328045 -0.164857 -0.074185  1.000000 -0.065858\n",
              "weather            -0.267388  0.322337  0.154981 -0.065858  1.000000"
            ],
            "text/html": [
              "\n",
              "  <div id=\"df-f0f49708-8676-44e4-a581-a48c5ba3261c\" class=\"colab-df-container\">\n",
              "    <div>\n",
              "<style scoped>\n",
              "    .dataframe tbody tr th:only-of-type {\n",
              "        vertical-align: middle;\n",
              "    }\n",
              "\n",
              "    .dataframe tbody tr th {\n",
              "        vertical-align: top;\n",
              "    }\n",
              "\n",
              "    .dataframe thead th {\n",
              "        text-align: right;\n",
              "    }\n",
              "</style>\n",
              "<table border=\"1\" class=\"dataframe\">\n",
              "  <thead>\n",
              "    <tr style=\"text-align: right;\">\n",
              "      <th></th>\n",
              "      <th>precipitation</th>\n",
              "      <th>temp_max</th>\n",
              "      <th>temp_min</th>\n",
              "      <th>wind</th>\n",
              "      <th>weather</th>\n",
              "    </tr>\n",
              "  </thead>\n",
              "  <tbody>\n",
              "    <tr>\n",
              "      <th>precipitation</th>\n",
              "      <td>1.000000</td>\n",
              "      <td>-0.228555</td>\n",
              "      <td>-0.072684</td>\n",
              "      <td>0.328045</td>\n",
              "      <td>-0.267388</td>\n",
              "    </tr>\n",
              "    <tr>\n",
              "      <th>temp_max</th>\n",
              "      <td>-0.228555</td>\n",
              "      <td>1.000000</td>\n",
              "      <td>0.875687</td>\n",
              "      <td>-0.164857</td>\n",
              "      <td>0.322337</td>\n",
              "    </tr>\n",
              "    <tr>\n",
              "      <th>temp_min</th>\n",
              "      <td>-0.072684</td>\n",
              "      <td>0.875687</td>\n",
              "      <td>1.000000</td>\n",
              "      <td>-0.074185</td>\n",
              "      <td>0.154981</td>\n",
              "    </tr>\n",
              "    <tr>\n",
              "      <th>wind</th>\n",
              "      <td>0.328045</td>\n",
              "      <td>-0.164857</td>\n",
              "      <td>-0.074185</td>\n",
              "      <td>1.000000</td>\n",
              "      <td>-0.065858</td>\n",
              "    </tr>\n",
              "    <tr>\n",
              "      <th>weather</th>\n",
              "      <td>-0.267388</td>\n",
              "      <td>0.322337</td>\n",
              "      <td>0.154981</td>\n",
              "      <td>-0.065858</td>\n",
              "      <td>1.000000</td>\n",
              "    </tr>\n",
              "  </tbody>\n",
              "</table>\n",
              "</div>\n",
              "    <div class=\"colab-df-buttons\">\n",
              "\n",
              "  <div class=\"colab-df-container\">\n",
              "    <button class=\"colab-df-convert\" onclick=\"convertToInteractive('df-f0f49708-8676-44e4-a581-a48c5ba3261c')\"\n",
              "            title=\"Convert this dataframe to an interactive table.\"\n",
              "            style=\"display:none;\">\n",
              "\n",
              "  <svg xmlns=\"http://www.w3.org/2000/svg\" height=\"24px\" viewBox=\"0 -960 960 960\">\n",
              "    <path d=\"M120-120v-720h720v720H120Zm60-500h600v-160H180v160Zm220 220h160v-160H400v160Zm0 220h160v-160H400v160ZM180-400h160v-160H180v160Zm440 0h160v-160H620v160ZM180-180h160v-160H180v160Zm440 0h160v-160H620v160Z\"/>\n",
              "  </svg>\n",
              "    </button>\n",
              "\n",
              "  <style>\n",
              "    .colab-df-container {\n",
              "      display:flex;\n",
              "      gap: 12px;\n",
              "    }\n",
              "\n",
              "    .colab-df-convert {\n",
              "      background-color: #E8F0FE;\n",
              "      border: none;\n",
              "      border-radius: 50%;\n",
              "      cursor: pointer;\n",
              "      display: none;\n",
              "      fill: #1967D2;\n",
              "      height: 32px;\n",
              "      padding: 0 0 0 0;\n",
              "      width: 32px;\n",
              "    }\n",
              "\n",
              "    .colab-df-convert:hover {\n",
              "      background-color: #E2EBFA;\n",
              "      box-shadow: 0px 1px 2px rgba(60, 64, 67, 0.3), 0px 1px 3px 1px rgba(60, 64, 67, 0.15);\n",
              "      fill: #174EA6;\n",
              "    }\n",
              "\n",
              "    .colab-df-buttons div {\n",
              "      margin-bottom: 4px;\n",
              "    }\n",
              "\n",
              "    [theme=dark] .colab-df-convert {\n",
              "      background-color: #3B4455;\n",
              "      fill: #D2E3FC;\n",
              "    }\n",
              "\n",
              "    [theme=dark] .colab-df-convert:hover {\n",
              "      background-color: #434B5C;\n",
              "      box-shadow: 0px 1px 3px 1px rgba(0, 0, 0, 0.15);\n",
              "      filter: drop-shadow(0px 1px 2px rgba(0, 0, 0, 0.3));\n",
              "      fill: #FFFFFF;\n",
              "    }\n",
              "  </style>\n",
              "\n",
              "    <script>\n",
              "      const buttonEl =\n",
              "        document.querySelector('#df-f0f49708-8676-44e4-a581-a48c5ba3261c button.colab-df-convert');\n",
              "      buttonEl.style.display =\n",
              "        google.colab.kernel.accessAllowed ? 'block' : 'none';\n",
              "\n",
              "      async function convertToInteractive(key) {\n",
              "        const element = document.querySelector('#df-f0f49708-8676-44e4-a581-a48c5ba3261c');\n",
              "        const dataTable =\n",
              "          await google.colab.kernel.invokeFunction('convertToInteractive',\n",
              "                                                    [key], {});\n",
              "        if (!dataTable) return;\n",
              "\n",
              "        const docLinkHtml = 'Like what you see? Visit the ' +\n",
              "          '<a target=\"_blank\" href=https://colab.research.google.com/notebooks/data_table.ipynb>data table notebook</a>'\n",
              "          + ' to learn more about interactive tables.';\n",
              "        element.innerHTML = '';\n",
              "        dataTable['output_type'] = 'display_data';\n",
              "        await google.colab.output.renderOutput(dataTable, element);\n",
              "        const docLink = document.createElement('div');\n",
              "        docLink.innerHTML = docLinkHtml;\n",
              "        element.appendChild(docLink);\n",
              "      }\n",
              "    </script>\n",
              "  </div>\n",
              "\n",
              "\n",
              "<div id=\"df-ad72e502-066a-49b9-be6a-7b36af623c7b\">\n",
              "  <button class=\"colab-df-quickchart\" onclick=\"quickchart('df-ad72e502-066a-49b9-be6a-7b36af623c7b')\"\n",
              "            title=\"Suggest charts\"\n",
              "            style=\"display:none;\">\n",
              "\n",
              "<svg xmlns=\"http://www.w3.org/2000/svg\" height=\"24px\"viewBox=\"0 0 24 24\"\n",
              "     width=\"24px\">\n",
              "    <g>\n",
              "        <path d=\"M19 3H5c-1.1 0-2 .9-2 2v14c0 1.1.9 2 2 2h14c1.1 0 2-.9 2-2V5c0-1.1-.9-2-2-2zM9 17H7v-7h2v7zm4 0h-2V7h2v10zm4 0h-2v-4h2v4z\"/>\n",
              "    </g>\n",
              "</svg>\n",
              "  </button>\n",
              "\n",
              "<style>\n",
              "  .colab-df-quickchart {\n",
              "      --bg-color: #E8F0FE;\n",
              "      --fill-color: #1967D2;\n",
              "      --hover-bg-color: #E2EBFA;\n",
              "      --hover-fill-color: #174EA6;\n",
              "      --disabled-fill-color: #AAA;\n",
              "      --disabled-bg-color: #DDD;\n",
              "  }\n",
              "\n",
              "  [theme=dark] .colab-df-quickchart {\n",
              "      --bg-color: #3B4455;\n",
              "      --fill-color: #D2E3FC;\n",
              "      --hover-bg-color: #434B5C;\n",
              "      --hover-fill-color: #FFFFFF;\n",
              "      --disabled-bg-color: #3B4455;\n",
              "      --disabled-fill-color: #666;\n",
              "  }\n",
              "\n",
              "  .colab-df-quickchart {\n",
              "    background-color: var(--bg-color);\n",
              "    border: none;\n",
              "    border-radius: 50%;\n",
              "    cursor: pointer;\n",
              "    display: none;\n",
              "    fill: var(--fill-color);\n",
              "    height: 32px;\n",
              "    padding: 0;\n",
              "    width: 32px;\n",
              "  }\n",
              "\n",
              "  .colab-df-quickchart:hover {\n",
              "    background-color: var(--hover-bg-color);\n",
              "    box-shadow: 0 1px 2px rgba(60, 64, 67, 0.3), 0 1px 3px 1px rgba(60, 64, 67, 0.15);\n",
              "    fill: var(--button-hover-fill-color);\n",
              "  }\n",
              "\n",
              "  .colab-df-quickchart-complete:disabled,\n",
              "  .colab-df-quickchart-complete:disabled:hover {\n",
              "    background-color: var(--disabled-bg-color);\n",
              "    fill: var(--disabled-fill-color);\n",
              "    box-shadow: none;\n",
              "  }\n",
              "\n",
              "  .colab-df-spinner {\n",
              "    border: 2px solid var(--fill-color);\n",
              "    border-color: transparent;\n",
              "    border-bottom-color: var(--fill-color);\n",
              "    animation:\n",
              "      spin 1s steps(1) infinite;\n",
              "  }\n",
              "\n",
              "  @keyframes spin {\n",
              "    0% {\n",
              "      border-color: transparent;\n",
              "      border-bottom-color: var(--fill-color);\n",
              "      border-left-color: var(--fill-color);\n",
              "    }\n",
              "    20% {\n",
              "      border-color: transparent;\n",
              "      border-left-color: var(--fill-color);\n",
              "      border-top-color: var(--fill-color);\n",
              "    }\n",
              "    30% {\n",
              "      border-color: transparent;\n",
              "      border-left-color: var(--fill-color);\n",
              "      border-top-color: var(--fill-color);\n",
              "      border-right-color: var(--fill-color);\n",
              "    }\n",
              "    40% {\n",
              "      border-color: transparent;\n",
              "      border-right-color: var(--fill-color);\n",
              "      border-top-color: var(--fill-color);\n",
              "    }\n",
              "    60% {\n",
              "      border-color: transparent;\n",
              "      border-right-color: var(--fill-color);\n",
              "    }\n",
              "    80% {\n",
              "      border-color: transparent;\n",
              "      border-right-color: var(--fill-color);\n",
              "      border-bottom-color: var(--fill-color);\n",
              "    }\n",
              "    90% {\n",
              "      border-color: transparent;\n",
              "      border-bottom-color: var(--fill-color);\n",
              "    }\n",
              "  }\n",
              "</style>\n",
              "\n",
              "  <script>\n",
              "    async function quickchart(key) {\n",
              "      const quickchartButtonEl =\n",
              "        document.querySelector('#' + key + ' button');\n",
              "      quickchartButtonEl.disabled = true;  // To prevent multiple clicks.\n",
              "      quickchartButtonEl.classList.add('colab-df-spinner');\n",
              "      try {\n",
              "        const charts = await google.colab.kernel.invokeFunction(\n",
              "            'suggestCharts', [key], {});\n",
              "      } catch (error) {\n",
              "        console.error('Error during call to suggestCharts:', error);\n",
              "      }\n",
              "      quickchartButtonEl.classList.remove('colab-df-spinner');\n",
              "      quickchartButtonEl.classList.add('colab-df-quickchart-complete');\n",
              "    }\n",
              "    (() => {\n",
              "      let quickchartButtonEl =\n",
              "        document.querySelector('#df-ad72e502-066a-49b9-be6a-7b36af623c7b button');\n",
              "      quickchartButtonEl.style.display =\n",
              "        google.colab.kernel.accessAllowed ? 'block' : 'none';\n",
              "    })();\n",
              "  </script>\n",
              "</div>\n",
              "\n",
              "    </div>\n",
              "  </div>\n"
            ]
          },
          "metadata": {},
          "execution_count": 24
        }
      ],
      "source": [
        "df.corr()"
      ]
    },
    {
      "cell_type": "code",
      "execution_count": 25,
      "id": "29960321",
      "metadata": {
        "colab": {
          "base_uri": "https://localhost:8080/",
          "height": 509
        },
        "id": "29960321",
        "outputId": "ccae9707-ea08-4514-d031-19f642503d9b"
      },
      "outputs": [
        {
          "output_type": "display_data",
          "data": {
            "text/plain": [
              "<Figure size 640x480 with 2 Axes>"
            ],
            "image/png": "[encoded data removed]"
          },
          "metadata": {}
        }
      ],
      "source": [
        "sns.heatmap(df.corr())\n",
        "plt.show()"
      ]
    },
    {
      "cell_type": "markdown",
      "id": "dff93de9",
      "metadata": {
        "id": "dff93de9"
      },
      "source": [
        "### So the conclusion is that no columns will be removed as every column in the data have some information which will be helpful in future prediction"
      ]
    },
    {
      "cell_type": "markdown",
      "id": "cefe7f43",
      "metadata": {
        "id": "cefe7f43"
      },
      "source": [
        "### Training Process"
      ]
    },
    {
      "cell_type": "markdown",
      "id": "8761f7c2",
      "metadata": {
        "id": "8761f7c2"
      },
      "source": [
        "#### we will now split the features and target"
      ]
    },
    {
      "cell_type": "code",
      "execution_count": 26,
      "id": "61c7eec5",
      "metadata": {
        "colab": {
          "base_uri": "https://localhost:8080/",
          "height": 424
        },
        "id": "61c7eec5",
        "outputId": "f93cadff-8a11-491d-cc69-0c843c00c44d"
      },
      "outputs": [
        {
          "output_type": "execute_result",
          "data": {
            "text/plain": [
              "      temp_max  temp_min  wind  weather\n",
              "0         12.8       5.0   4.7      0.0\n",
              "1         10.6       2.8   4.5      2.0\n",
              "2         11.7       7.2   2.3      2.0\n",
              "3         12.2       5.6   4.7      2.0\n",
              "4          8.9       2.8   6.1      2.0\n",
              "...        ...       ...   ...      ...\n",
              "1456       4.4       1.7   2.9      2.0\n",
              "1457       5.0       1.7   1.3      2.0\n",
              "1458       7.2       0.6   2.6      1.0\n",
              "1459       5.6      -1.0   3.4      4.0\n",
              "1460       5.6      -2.1   3.5      4.0\n",
              "\n",
              "[1461 rows x 4 columns]"
            ],
            "text/html": [
              "\n",
              "  <div id=\"df-4432e5fd-9d2f-449a-a6b4-cb48fde49503\" class=\"colab-df-container\">\n",
              "    <div>\n",
              "<style scoped>\n",
              "    .dataframe tbody tr th:only-of-type {\n",
              "        vertical-align: middle;\n",
              "    }\n",
              "\n",
              "    .dataframe tbody tr th {\n",
              "        vertical-align: top;\n",
              "    }\n",
              "\n",
              "    .dataframe thead th {\n",
              "        text-align: right;\n",
              "    }\n",
              "</style>\n",
              "<table border=\"1\" class=\"dataframe\">\n",
              "  <thead>\n",
              "    <tr style=\"text-align: right;\">\n",
              "      <th></th>\n",
              "      <th>temp_max</th>\n",
              "      <th>temp_min</th>\n",
              "      <th>wind</th>\n",
              "      <th>weather</th>\n",
              "    </tr>\n",
              "  </thead>\n",
              "  <tbody>\n",
              "    <tr>\n",
              "      <th>0</th>\n",
              "      <td>12.8</td>\n",
              "      <td>5.0</td>\n",
              "      <td>4.7</td>\n",
              "      <td>0.0</td>\n",
              "    </tr>\n",
              "    <tr>\n",
              "      <th>1</th>\n",
              "      <td>10.6</td>\n",
              "      <td>2.8</td>\n",
              "      <td>4.5</td>\n",
              "      <td>2.0</td>\n",
              "    </tr>\n",
              "    <tr>\n",
              "      <th>2</th>\n",
              "      <td>11.7</td>\n",
              "      <td>7.2</td>\n",
              "      <td>2.3</td>\n",
              "      <td>2.0</td>\n",
              "    </tr>\n",
              "    <tr>\n",
              "      <th>3</th>\n",
              "      <td>12.2</td>\n",
              "      <td>5.6</td>\n",
              "      <td>4.7</td>\n",
              "      <td>2.0</td>\n",
              "    </tr>\n",
              "    <tr>\n",
              "      <th>4</th>\n",
              "      <td>8.9</td>\n",
              "      <td>2.8</td>\n",
              "      <td>6.1</td>\n",
              "      <td>2.0</td>\n",
              "    </tr>\n",
              "    <tr>\n",
              "      <th>...</th>\n",
              "      <td>...</td>\n",
              "      <td>...</td>\n",
              "      <td>...</td>\n",
              "      <td>...</td>\n",
              "    </tr>\n",
              "    <tr>\n",
              "      <th>1456</th>\n",
              "      <td>4.4</td>\n",
              "      <td>1.7</td>\n",
              "      <td>2.9</td>\n",
              "      <td>2.0</td>\n",
              "    </tr>\n",
              "    <tr>\n",
              "      <th>1457</th>\n",
              "      <td>5.0</td>\n",
              "      <td>1.7</td>\n",
              "      <td>1.3</td>\n",
              "      <td>2.0</td>\n",
              "    </tr>\n",
              "    <tr>\n",
              "      <th>1458</th>\n",
              "      <td>7.2</td>\n",
              "      <td>0.6</td>\n",
              "      <td>2.6</td>\n",
              "      <td>1.0</td>\n",
              "    </tr>\n",
              "    <tr>\n",
              "      <th>1459</th>\n",
              "      <td>5.6</td>\n",
              "      <td>-1.0</td>\n",
              "      <td>3.4</td>\n",
              "      <td>4.0</td>\n",
              "    </tr>\n",
              "    <tr>\n",
              "      <th>1460</th>\n",
              "      <td>5.6</td>\n",
              "      <td>-2.1</td>\n",
              "      <td>3.5</td>\n",
              "      <td>4.0</td>\n",
              "    </tr>\n",
              "  </tbody>\n",
              "</table>\n",
              "<p>1461 rows × 4 columns</p>\n",
              "</div>\n",
              "    <div class=\"colab-df-buttons\">\n",
              "\n",
              "  <div class=\"colab-df-container\">\n",
              "    <button class=\"colab-df-convert\" onclick=\"convertToInteractive('df-4432e5fd-9d2f-449a-a6b4-cb48fde49503')\"\n",
              "            title=\"Convert this dataframe to an interactive table.\"\n",
              "            style=\"display:none;\">\n",
              "\n",
              "  <svg xmlns=\"http://www.w3.org/2000/svg\" height=\"24px\" viewBox=\"0 -960 960 960\">\n",
              "    <path d=\"M120-120v-720h720v720H120Zm60-500h600v-160H180v160Zm220 220h160v-160H400v160Zm0 220h160v-160H400v160ZM180-400h160v-160H180v160Zm440 0h160v-160H620v160ZM180-180h160v-160H180v160Zm440 0h160v-160H620v160Z\"/>\n",
              "  </svg>\n",
              "    </button>\n",
              "\n",
              "  <style>\n",
              "    .colab-df-container {\n",
              "      display:flex;\n",
              "      gap: 12px;\n",
              "    }\n",
              "\n",
              "    .colab-df-convert {\n",
              "      background-color: #E8F0FE;\n",
              "      border: none;\n",
              "      border-radius: 50%;\n",
              "      cursor: pointer;\n",
              "      display: none;\n",
              "      fill: #1967D2;\n",
              "      height: 32px;\n",
              "      padding: 0 0 0 0;\n",
              "      width: 32px;\n",
              "    }\n",
              "\n",
              "    .colab-df-convert:hover {\n",
              "      background-color: #E2EBFA;\n",
              "      box-shadow: 0px 1px 2px rgba(60, 64, 67, 0.3), 0px 1px 3px 1px rgba(60, 64, 67, 0.15);\n",
              "      fill: #174EA6;\n",
              "    }\n",
              "\n",
              "    .colab-df-buttons div {\n",
              "      margin-bottom: 4px;\n",
              "    }\n",
              "\n",
              "    [theme=dark] .colab-df-convert {\n",
              "      background-color: #3B4455;\n",
              "      fill: #D2E3FC;\n",
              "    }\n",
              "\n",
              "    [theme=dark] .colab-df-convert:hover {\n",
              "      background-color: #434B5C;\n",
              "      box-shadow: 0px 1px 3px 1px rgba(0, 0, 0, 0.15);\n",
              "      filter: drop-shadow(0px 1px 2px rgba(0, 0, 0, 0.3));\n",
              "      fill: #FFFFFF;\n",
              "    }\n",
              "  </style>\n",
              "\n",
              "    <script>\n",
              "      const buttonEl =\n",
              "        document.querySelector('#df-4432e5fd-9d2f-449a-a6b4-cb48fde49503 button.colab-df-convert');\n",
              "      buttonEl.style.display =\n",
              "        google.colab.kernel.accessAllowed ? 'block' : 'none';\n",
              "\n",
              "      async function convertToInteractive(key) {\n",
              "        const element = document.querySelector('#df-4432e5fd-9d2f-449a-a6b4-cb48fde49503');\n",
              "        const dataTable =\n",
              "          await google.colab.kernel.invokeFunction('convertToInteractive',\n",
              "                                                    [key], {});\n",
              "        if (!dataTable) return;\n",
              "\n",
              "        const docLinkHtml = 'Like what you see? Visit the ' +\n",
              "          '<a target=\"_blank\" href=https://colab.research.google.com/notebooks/data_table.ipynb>data table notebook</a>'\n",
              "          + ' to learn more about interactive tables.';\n",
              "        element.innerHTML = '';\n",
              "        dataTable['output_type'] = 'display_data';\n",
              "        await google.colab.output.renderOutput(dataTable, element);\n",
              "        const docLink = document.createElement('div');\n",
              "        docLink.innerHTML = docLinkHtml;\n",
              "        element.appendChild(docLink);\n",
              "      }\n",
              "    </script>\n",
              "  </div>\n",
              "\n",
              "\n",
              "<div id=\"df-5b0b35c0-29d5-4077-9ca6-39447507505f\">\n",
              "  <button class=\"colab-df-quickchart\" onclick=\"quickchart('df-5b0b35c0-29d5-4077-9ca6-39447507505f')\"\n",
              "            title=\"Suggest charts\"\n",
              "            style=\"display:none;\">\n",
              "\n",
              "<svg xmlns=\"http://www.w3.org/2000/svg\" height=\"24px\"viewBox=\"0 0 24 24\"\n",
              "     width=\"24px\">\n",
              "    <g>\n",
              "        <path d=\"M19 3H5c-1.1 0-2 .9-2 2v14c0 1.1.9 2 2 2h14c1.1 0 2-.9 2-2V5c0-1.1-.9-2-2-2zM9 17H7v-7h2v7zm4 0h-2V7h2v10zm4 0h-2v-4h2v4z\"/>\n",
              "    </g>\n",
              "</svg>\n",
              "  </button>\n",
              "\n",
              "<style>\n",
              "  .colab-df-quickchart {\n",
              "      --bg-color: #E8F0FE;\n",
              "      --fill-color: #1967D2;\n",
              "      --hover-bg-color: #E2EBFA;\n",
              "      --hover-fill-color: #174EA6;\n",
              "      --disabled-fill-color: #AAA;\n",
              "      --disabled-bg-color: #DDD;\n",
              "  }\n",
              "\n",
              "  [theme=dark] .colab-df-quickchart {\n",
              "      --bg-color: #3B4455;\n",
              "      --fill-color: #D2E3FC;\n",
              "      --hover-bg-color: #434B5C;\n",
              "      --hover-fill-color: #FFFFFF;\n",
              "      --disabled-bg-color: #3B4455;\n",
              "      --disabled-fill-color: #666;\n",
              "  }\n",
              "\n",
              "  .colab-df-quickchart {\n",
              "    background-color: var(--bg-color);\n",
              "    border: none;\n",
              "    border-radius: 50%;\n",
              "    cursor: pointer;\n",
              "    display: none;\n",
              "    fill: var(--fill-color);\n",
              "    height: 32px;\n",
              "    padding: 0;\n",
              "    width: 32px;\n",
              "  }\n",
              "\n",
              "  .colab-df-quickchart:hover {\n",
              "    background-color: var(--hover-bg-color);\n",
              "    box-shadow: 0 1px 2px rgba(60, 64, 67, 0.3), 0 1px 3px 1px rgba(60, 64, 67, 0.15);\n",
              "    fill: var(--button-hover-fill-color);\n",
              "  }\n",
              "\n",
              "  .colab-df-quickchart-complete:disabled,\n",
              "  .colab-df-quickchart-complete:disabled:hover {\n",
              "    background-color: var(--disabled-bg-color);\n",
              "    fill: var(--disabled-fill-color);\n",
              "    box-shadow: none;\n",
              "  }\n",
              "\n",
              "  .colab-df-spinner {\n",
              "    border: 2px solid var(--fill-color);\n",
              "    border-color: transparent;\n",
              "    border-bottom-color: var(--fill-color);\n",
              "    animation:\n",
              "      spin 1s steps(1) infinite;\n",
              "  }\n",
              "\n",
              "  @keyframes spin {\n",
              "    0% {\n",
              "      border-color: transparent;\n",
              "      border-bottom-color: var(--fill-color);\n",
              "      border-left-color: var(--fill-color);\n",
              "    }\n",
              "    20% {\n",
              "      border-color: transparent;\n",
              "      border-left-color: var(--fill-color);\n",
              "      border-top-color: var(--fill-color);\n",
              "    }\n",
              "    30% {\n",
              "      border-color: transparent;\n",
              "      border-left-color: var(--fill-color);\n",
              "      border-top-color: var(--fill-color);\n",
              "      border-right-color: var(--fill-color);\n",
              "    }\n",
              "    40% {\n",
              "      border-color: transparent;\n",
              "      border-right-color: var(--fill-color);\n",
              "      border-top-color: var(--fill-color);\n",
              "    }\n",
              "    60% {\n",
              "      border-color: transparent;\n",
              "      border-right-color: var(--fill-color);\n",
              "    }\n",
              "    80% {\n",
              "      border-color: transparent;\n",
              "      border-right-color: var(--fill-color);\n",
              "      border-bottom-color: var(--fill-color);\n",
              "    }\n",
              "    90% {\n",
              "      border-color: transparent;\n",
              "      border-bottom-color: var(--fill-color);\n",
              "    }\n",
              "  }\n",
              "</style>\n",
              "\n",
              "  <script>\n",
              "    async function quickchart(key) {\n",
              "      const quickchartButtonEl =\n",
              "        document.querySelector('#' + key + ' button');\n",
              "      quickchartButtonEl.disabled = true;  // To prevent multiple clicks.\n",
              "      quickchartButtonEl.classList.add('colab-df-spinner');\n",
              "      try {\n",
              "        const charts = await google.colab.kernel.invokeFunction(\n",
              "            'suggestCharts', [key], {});\n",
              "      } catch (error) {\n",
              "        console.error('Error during call to suggestCharts:', error);\n",
              "      }\n",
              "      quickchartButtonEl.classList.remove('colab-df-spinner');\n",
              "      quickchartButtonEl.classList.add('colab-df-quickchart-complete');\n",
              "    }\n",
              "    (() => {\n",
              "      let quickchartButtonEl =\n",
              "        document.querySelector('#df-5b0b35c0-29d5-4077-9ca6-39447507505f button');\n",
              "      quickchartButtonEl.style.display =\n",
              "        google.colab.kernel.accessAllowed ? 'block' : 'none';\n",
              "    })();\n",
              "  </script>\n",
              "</div>\n",
              "\n",
              "  <div id=\"id_230a7ea6-4133-4422-b241-682dc64fb345\">\n",
              "    <style>\n",
              "      .colab-df-generate {\n",
              "        background-color: #E8F0FE;\n",
              "        border: none;\n",
              "        border-radius: 50%;\n",
              "        cursor: pointer;\n",
              "        display: none;\n",
              "        fill: #1967D2;\n",
              "        height: 32px;\n",
              "        padding: 0 0 0 0;\n",
              "        width: 32px;\n",
              "      }\n",
              "\n",
              "      .colab-df-generate:hover {\n",
              "        background-color: #E2EBFA;\n",
              "        box-shadow: 0px 1px 2px rgba(60, 64, 67, 0.3), 0px 1px 3px 1px rgba(60, 64, 67, 0.15);\n",
              "        fill: #174EA6;\n",
              "      }\n",
              "\n",
              "      [theme=dark] .colab-df-generate {\n",
              "        background-color: #3B4455;\n",
              "        fill: #D2E3FC;\n",
              "      }\n",
              "\n",
              "      [theme=dark] .colab-df-generate:hover {\n",
              "        background-color: #434B5C;\n",
              "        box-shadow: 0px 1px 3px 1px rgba(0, 0, 0, 0.15);\n",
              "        filter: drop-shadow(0px 1px 2px rgba(0, 0, 0, 0.3));\n",
              "        fill: #FFFFFF;\n",
              "      }\n",
              "    </style>\n",
              "    <button class=\"colab-df-generate\" onclick=\"generateWithVariable('x')\"\n",
              "            title=\"Generate code using this dataframe.\"\n",
              "            style=\"display:none;\">\n",
              "\n",
              "  <svg xmlns=\"http://www.w3.org/2000/svg\" height=\"24px\"viewBox=\"0 0 24 24\"\n",
              "       width=\"24px\">\n",
              "    <path d=\"M7,19H8.4L18.45,9,17,7.55,7,17.6ZM5,21V16.75L18.45,3.32a2,2,0,0,1,2.83,0l1.4,1.43a1.91,1.91,0,0,1,.58,1.4,1.91,1.91,0,0,1-.58,1.4L9.25,21ZM18.45,9,17,7.55Zm-12,3A5.31,5.31,0,0,0,4.9,8.1,5.31,5.31,0,0,0,1,6.5,5.31,5.31,0,0,0,4.9,4.9,5.31,5.31,0,0,0,6.5,1,5.31,5.31,0,0,0,8.1,4.9,5.31,5.31,0,0,0,12,6.5,5.46,5.46,0,0,0,6.5,12Z\"/>\n",
              "  </svg>\n",
              "    </button>\n",
              "    <script>\n",
              "      (() => {\n",
              "      const buttonEl =\n",
              "        document.querySelector('#id_230a7ea6-4133-4422-b241-682dc64fb345 button.colab-df-generate');\n",
              "      buttonEl.style.display =\n",
              "        google.colab.kernel.accessAllowed ? 'block' : 'none';\n",
              "\n",
              "      buttonEl.onclick = () => {\n",
              "        google.colab.notebook.generateWithVariable('x');\n",
              "      }\n",
              "      })();\n",
              "    </script>\n",
              "  </div>\n",
              "\n",
              "    </div>\n",
              "  </div>\n"
            ]
          },
          "metadata": {},
          "execution_count": 26
        }
      ],
      "source": [
        "x = df.iloc[:,1:5]\n",
        "x"
      ]
    },
    {
      "cell_type": "code",
      "execution_count": 27,
      "id": "deb35b4a",
      "metadata": {
        "colab": {
          "base_uri": "https://localhost:8080/"
        },
        "id": "deb35b4a",
        "outputId": "8a9c0ef7-fd3d-4582-9cfa-a5d999bc9d6c"
      },
      "outputs": [
        {
          "output_type": "execute_result",
          "data": {
            "text/plain": [
              "0       0.0\n",
              "1       2.0\n",
              "2       2.0\n",
              "3       2.0\n",
              "4       2.0\n",
              "       ... \n",
              "1456    2.0\n",
              "1457    2.0\n",
              "1458    1.0\n",
              "1459    4.0\n",
              "1460    4.0\n",
              "Name: weather, Length: 1461, dtype: float64"
            ]
          },
          "metadata": {},
          "execution_count": 27
        }
      ],
      "source": [
        "y = df.iloc[:,-1]\n",
        "y"
      ]
    },
    {
      "cell_type": "code",
      "source": [
        "y.value_counts()"
      ],
      "metadata": {
        "colab": {
          "base_uri": "https://localhost:8080/"
        },
        "id": "-S853-stNq4V",
        "outputId": "43d5f5b8-ad1e-4659-a45b-087659cc4b77"
      },
      "id": "-S853-stNq4V",
      "execution_count": 28,
      "outputs": [
        {
          "output_type": "execute_result",
          "data": {
            "text/plain": [
              "2.0    641\n",
              "4.0    640\n",
              "1.0    101\n",
              "0.0     53\n",
              "3.0     26\n",
              "Name: weather, dtype: int64"
            ]
          },
          "metadata": {},
          "execution_count": 28
        }
      ]
    },
    {
      "cell_type": "code",
      "source": [
        "#pip install imbalanced-learn"
      ],
      "metadata": {
        "id": "dhn48k-yfPKT"
      },
      "id": "dhn48k-yfPKT",
      "execution_count": 29,
      "outputs": []
    },
    {
      "cell_type": "code",
      "source": [
        "import imblearn"
      ],
      "metadata": {
        "id": "rnuNjjAZfU6z"
      },
      "id": "rnuNjjAZfU6z",
      "execution_count": 30,
      "outputs": []
    },
    {
      "cell_type": "code",
      "source": [
        "from imblearn.over_sampling import SMOTE"
      ],
      "metadata": {
        "id": "2QlqJanpfXw5"
      },
      "id": "2QlqJanpfXw5",
      "execution_count": 31,
      "outputs": []
    },
    {
      "cell_type": "code",
      "source": [
        "smote = SMOTE(random_state=42)\n",
        "\n",
        "Xr, yr = smote.fit_resample(x , y)"
      ],
      "metadata": {
        "id": "UjuftReEfYeq"
      },
      "id": "UjuftReEfYeq",
      "execution_count": 32,
      "outputs": []
    },
    {
      "cell_type": "code",
      "source": [
        "yr.value_counts()"
      ],
      "metadata": {
        "colab": {
          "base_uri": "https://localhost:8080/"
        },
        "id": "gvR8_blEfg4Z",
        "outputId": "464a7b54-baa0-44dc-881f-ba6f1f1883aa"
      },
      "id": "gvR8_blEfg4Z",
      "execution_count": 33,
      "outputs": [
        {
          "output_type": "execute_result",
          "data": {
            "text/plain": [
              "0.0    641\n",
              "2.0    641\n",
              "4.0    641\n",
              "3.0    641\n",
              "1.0    641\n",
              "Name: weather, dtype: int64"
            ]
          },
          "metadata": {},
          "execution_count": 33
        }
      ]
    },
    {
      "cell_type": "markdown",
      "id": "e55de633",
      "metadata": {
        "id": "e55de633"
      },
      "source": [
        "### now we will perform Train test split"
      ]
    },
    {
      "cell_type": "code",
      "execution_count": 34,
      "id": "ae6ea6a1",
      "metadata": {
        "id": "ae6ea6a1"
      },
      "outputs": [],
      "source": [
        "from sklearn.model_selection import train_test_split\n",
        "X_train,X_test,y_train,y_test = train_test_split(Xr,yr,test_size=0.3,random_state=42)"
      ]
    },
    {
      "cell_type": "markdown",
      "id": "82264426",
      "metadata": {
        "id": "82264426"
      },
      "source": [
        "In the above code i have just imported the train_test_split model and\n",
        "applied the model to the dataset in 70 : 30 ratio so that the machine will take learnings from 70 % of the\n",
        "data and make a testing on 30 % of the data and hence make a optimum conclusion"
      ]
    },
    {
      "cell_type": "markdown",
      "id": "18f5650b",
      "metadata": {
        "id": "18f5650b"
      },
      "source": [
        "### Algorithms"
      ]
    },
    {
      "cell_type": "markdown",
      "id": "e0cae452",
      "metadata": {
        "id": "e0cae452"
      },
      "source": [
        "now we will import algorithms"
      ]
    },
    {
      "cell_type": "code",
      "execution_count": 35,
      "id": "741fa47a",
      "metadata": {
        "id": "741fa47a"
      },
      "outputs": [],
      "source": [
        "from sklearn.linear_model import LogisticRegression\n",
        "from sklearn.neighbors import KNeighborsClassifier\n",
        "from sklearn.tree import DecisionTreeClassifier\n",
        "from sklearn.svm import SVC"
      ]
    },
    {
      "cell_type": "code",
      "execution_count": 36,
      "id": "c3137017",
      "metadata": {
        "id": "c3137017"
      },
      "outputs": [],
      "source": [
        "#now we will assign variable to those algorithms\n",
        "logreg = LogisticRegression()\n",
        "knn = KNeighborsClassifier()\n",
        "dt = DecisionTreeClassifier()\n",
        "svm = SVC()"
      ]
    },
    {
      "cell_type": "code",
      "execution_count": 37,
      "id": "d5228dd5",
      "metadata": {
        "id": "d5228dd5"
      },
      "outputs": [],
      "source": [
        "#for accuracy we will import classification report and accuracy score\n",
        "from sklearn.metrics import classification_report,accuracy_score"
      ]
    },
    {
      "cell_type": "markdown",
      "id": "d2e583fd",
      "metadata": {
        "id": "d2e583fd"
      },
      "source": [
        "### Building a Class named Mymodel so that the accuracies can be easily predicted"
      ]
    },
    {
      "cell_type": "code",
      "execution_count": 38,
      "id": "dd9c19fa",
      "metadata": {
        "id": "dd9c19fa"
      },
      "outputs": [],
      "source": [
        "def mymodel(model):\n",
        "    model.fit(X_train,y_train)\n",
        "    y_pred = model.predict(X_test)\n",
        "    print('Accuracy score :',accuracy_score(y_test,y_pred))\n",
        "    print(classification_report(y_test,y_pred))\n",
        "\n",
        "    train = model.score(X_train,y_train)\n",
        "    test  = model.score(X_test,y_test)\n",
        "    print('Training performance :',train)\n",
        "    print('testing performance :',test)"
      ]
    },
    {
      "cell_type": "markdown",
      "id": "8281551a",
      "metadata": {
        "id": "8281551a"
      },
      "source": [
        "#### Applying diffrent algorithms on the Class to check accuracy of each and finding the best and most accurate Algorithm for Prediction\n"
      ]
    },
    {
      "cell_type": "markdown",
      "id": "c7dafddd",
      "metadata": {
        "id": "c7dafddd"
      },
      "source": [
        "### Logistic Regression"
      ]
    },
    {
      "cell_type": "code",
      "execution_count": 39,
      "id": "2e74b7f1",
      "metadata": {
        "colab": {
          "base_uri": "https://localhost:8080/"
        },
        "id": "2e74b7f1",
        "outputId": "0688a68e-dfde-4a14-8cc2-a3eff2b39b2c"
      },
      "outputs": [
        {
          "output_type": "stream",
          "name": "stdout",
          "text": [
            "Accuracy score : 0.9823284823284824\n",
            "              precision    recall  f1-score   support\n",
            "\n",
            "         0.0       0.99      1.00      1.00       187\n",
            "         1.0       1.00      0.99      1.00       192\n",
            "         2.0       1.00      0.96      0.98       188\n",
            "         3.0       0.93      0.99      0.96       193\n",
            "         4.0       0.99      0.97      0.98       202\n",
            "\n",
            "    accuracy                           0.98       962\n",
            "   macro avg       0.98      0.98      0.98       962\n",
            "weighted avg       0.98      0.98      0.98       962\n",
            "\n",
            "Training performance : 0.9866250557289344\n",
            "testing performance : 0.9823284823284824\n"
          ]
        }
      ],
      "source": [
        "mymodel(logreg)"
      ]
    },
    {
      "cell_type": "markdown",
      "id": "69a4b482",
      "metadata": {
        "id": "69a4b482"
      },
      "source": [
        "### KNeighbors"
      ]
    },
    {
      "cell_type": "code",
      "execution_count": 40,
      "id": "0d82cad0",
      "metadata": {
        "colab": {
          "base_uri": "https://localhost:8080/"
        },
        "id": "0d82cad0",
        "outputId": "85d97611-f4b8-429c-fc45-bda472c7d47c"
      },
      "outputs": [
        {
          "output_type": "stream",
          "name": "stdout",
          "text": [
            "Accuracy score : 0.9573804573804574\n",
            "              precision    recall  f1-score   support\n",
            "\n",
            "         0.0       0.97      0.99      0.98       187\n",
            "         1.0       0.93      0.97      0.95       192\n",
            "         2.0       0.99      0.91      0.95       188\n",
            "         3.0       0.91      0.99      0.95       193\n",
            "         4.0       0.99      0.93      0.96       202\n",
            "\n",
            "    accuracy                           0.96       962\n",
            "   macro avg       0.96      0.96      0.96       962\n",
            "weighted avg       0.96      0.96      0.96       962\n",
            "\n",
            "Training performance : 0.9674543022737405\n",
            "testing performance : 0.9573804573804574\n"
          ]
        }
      ],
      "source": [
        "mymodel(knn)"
      ]
    },
    {
      "cell_type": "markdown",
      "source": [
        "# Descision Tree"
      ],
      "metadata": {
        "id": "GuD7twQ0arSU"
      },
      "id": "GuD7twQ0arSU"
    },
    {
      "cell_type": "code",
      "execution_count": 41,
      "id": "4264644d",
      "metadata": {
        "colab": {
          "base_uri": "https://localhost:8080/"
        },
        "id": "4264644d",
        "outputId": "9b504b29-3479-4584-cdb9-a0c77c5b6105"
      },
      "outputs": [
        {
          "output_type": "stream",
          "name": "stdout",
          "text": [
            "Accuracy score : 1.0\n",
            "              precision    recall  f1-score   support\n",
            "\n",
            "         0.0       1.00      1.00      1.00       187\n",
            "         1.0       1.00      1.00      1.00       192\n",
            "         2.0       1.00      1.00      1.00       188\n",
            "         3.0       1.00      1.00      1.00       193\n",
            "         4.0       1.00      1.00      1.00       202\n",
            "\n",
            "    accuracy                           1.00       962\n",
            "   macro avg       1.00      1.00      1.00       962\n",
            "weighted avg       1.00      1.00      1.00       962\n",
            "\n",
            "Training performance : 1.0\n",
            "testing performance : 1.0\n"
          ]
        }
      ],
      "source": [
        "mymodel(dt)"
      ]
    },
    {
      "cell_type": "markdown",
      "id": "df13e42c",
      "metadata": {
        "id": "df13e42c"
      },
      "source": [
        "### SVM"
      ]
    },
    {
      "cell_type": "code",
      "execution_count": 42,
      "id": "bc5c6ee7",
      "metadata": {
        "scrolled": true,
        "colab": {
          "base_uri": "https://localhost:8080/"
        },
        "id": "bc5c6ee7",
        "outputId": "91dd3a94-4933-42f5-cc85-4256f82fa51e"
      },
      "outputs": [
        {
          "output_type": "stream",
          "name": "stdout",
          "text": [
            "Accuracy score : 0.9719334719334719\n",
            "              precision    recall  f1-score   support\n",
            "\n",
            "         0.0       1.00      1.00      1.00       187\n",
            "         1.0       0.98      1.00      0.99       192\n",
            "         2.0       0.98      0.94      0.96       188\n",
            "         3.0       0.91      0.98      0.94       193\n",
            "         4.0       1.00      0.94      0.97       202\n",
            "\n",
            "    accuracy                           0.97       962\n",
            "   macro avg       0.97      0.97      0.97       962\n",
            "weighted avg       0.97      0.97      0.97       962\n",
            "\n",
            "Training performance : 0.9692376281765492\n",
            "testing performance : 0.9719334719334719\n"
          ]
        }
      ],
      "source": [
        "mymodel(svm)"
      ]
    },
    {
      "cell_type": "markdown",
      "id": "5bf26935",
      "metadata": {
        "id": "5bf26935"
      },
      "source": [
        "### Decision Tree"
      ]
    },
    {
      "cell_type": "code",
      "execution_count": 43,
      "id": "e93320dd",
      "metadata": {
        "colab": {
          "base_uri": "https://localhost:8080/"
        },
        "id": "e93320dd",
        "outputId": "47c797b0-94e4-4b9f-e7cc-bc84eab24f5f"
      },
      "outputs": [
        {
          "output_type": "stream",
          "name": "stdout",
          "text": [
            "Accuracy score : 1.0\n",
            "              precision    recall  f1-score   support\n",
            "\n",
            "         0.0       1.00      1.00      1.00       187\n",
            "         1.0       1.00      1.00      1.00       192\n",
            "         2.0       1.00      1.00      1.00       188\n",
            "         3.0       1.00      1.00      1.00       193\n",
            "         4.0       1.00      1.00      1.00       202\n",
            "\n",
            "    accuracy                           1.00       962\n",
            "   macro avg       1.00      1.00      1.00       962\n",
            "weighted avg       1.00      1.00      1.00       962\n",
            "\n",
            "Training performance : 1.0\n",
            "testing performance : 1.0\n"
          ]
        }
      ],
      "source": [
        "mymodel(dt)"
      ]
    },
    {
      "cell_type": "code",
      "execution_count": 44,
      "id": "b4005413",
      "metadata": {
        "colab": {
          "base_uri": "https://localhost:8080/"
        },
        "id": "b4005413",
        "outputId": "c7e01d1c-2962-4c1e-ba9a-96ce93ce7e7f"
      },
      "outputs": [
        {
          "output_type": "stream",
          "name": "stdout",
          "text": [
            "Max depth=1    Accuracy = 0.3898128898128898\n",
            "Max depth=2    Accuracy = 0.5893970893970893\n",
            "Max depth=3    Accuracy = 0.7900207900207901\n",
            "Max depth=4    Accuracy = 1.0\n",
            "Max depth=5    Accuracy = 1.0\n",
            "Max depth=6    Accuracy = 1.0\n",
            "Max depth=7    Accuracy = 1.0\n",
            "Max depth=8    Accuracy = 1.0\n",
            "Max depth=9    Accuracy = 1.0\n",
            "Max depth=10    Accuracy = 1.0\n",
            "Max depth=11    Accuracy = 1.0\n",
            "Max depth=12    Accuracy = 1.0\n",
            "Max depth=13    Accuracy = 1.0\n",
            "Max depth=14    Accuracy = 1.0\n",
            "Max depth=15    Accuracy = 1.0\n",
            "Max depth=16    Accuracy = 1.0\n",
            "Max depth=17    Accuracy = 1.0\n",
            "Max depth=18    Accuracy = 1.0\n",
            "Max depth=19    Accuracy = 1.0\n",
            "Max depth=20    Accuracy = 1.0\n",
            "Max depth=21    Accuracy = 1.0\n",
            "Max depth=22    Accuracy = 1.0\n",
            "Max depth=23    Accuracy = 1.0\n",
            "Max depth=24    Accuracy = 1.0\n",
            "Max depth=25    Accuracy = 1.0\n",
            "Max depth=26    Accuracy = 1.0\n",
            "Max depth=27    Accuracy = 1.0\n",
            "Max depth=28    Accuracy = 1.0\n",
            "Max depth=29    Accuracy = 1.0\n",
            "Max depth=30    Accuracy = 1.0\n",
            "Max depth=31    Accuracy = 1.0\n",
            "Max depth=32    Accuracy = 1.0\n",
            "Max depth=33    Accuracy = 1.0\n",
            "Max depth=34    Accuracy = 1.0\n",
            "Max depth=35    Accuracy = 1.0\n",
            "Max depth=36    Accuracy = 1.0\n",
            "Max depth=37    Accuracy = 1.0\n",
            "Max depth=38    Accuracy = 1.0\n",
            "Max depth=39    Accuracy = 1.0\n",
            "Max depth=40    Accuracy = 1.0\n",
            "Max depth=41    Accuracy = 1.0\n",
            "Max depth=42    Accuracy = 1.0\n",
            "Max depth=43    Accuracy = 1.0\n",
            "Max depth=44    Accuracy = 1.0\n",
            "Max depth=45    Accuracy = 1.0\n",
            "Max depth=46    Accuracy = 1.0\n",
            "Max depth=47    Accuracy = 1.0\n",
            "Max depth=48    Accuracy = 1.0\n",
            "Max depth=49    Accuracy = 1.0\n",
            "Max depth=50    Accuracy = 1.0\n"
          ]
        }
      ],
      "source": [
        "for i in range(1,51):    #1\n",
        "    dt1 =DecisionTreeClassifier(max_depth=i)\n",
        "    dt1.fit(X_train,y_train)\n",
        "    y_pred = dt1.predict(X_test)\n",
        "    ac = accuracy_score(y_test,y_pred)\n",
        "    print(f\"Max depth={i}    Accuracy = {ac}\")"
      ]
    },
    {
      "cell_type": "code",
      "execution_count": 45,
      "id": "0c68671c",
      "metadata": {
        "colab": {
          "base_uri": "https://localhost:8080/"
        },
        "id": "0c68671c",
        "outputId": "700a71a4-cb70-4ca6-da46-438ac1f3ddf2"
      },
      "outputs": [
        {
          "output_type": "stream",
          "name": "stdout",
          "text": [
            "Min Sample split=2    Accuracy = 1.0\n",
            "Min Sample split=3    Accuracy = 1.0\n",
            "Min Sample split=4    Accuracy = 1.0\n",
            "Min Sample split=5    Accuracy = 1.0\n",
            "Min Sample split=6    Accuracy = 1.0\n",
            "Min Sample split=7    Accuracy = 1.0\n",
            "Min Sample split=8    Accuracy = 1.0\n",
            "Min Sample split=9    Accuracy = 1.0\n",
            "Min Sample split=10    Accuracy = 1.0\n",
            "Min Sample split=11    Accuracy = 1.0\n",
            "Min Sample split=12    Accuracy = 1.0\n",
            "Min Sample split=13    Accuracy = 1.0\n",
            "Min Sample split=14    Accuracy = 1.0\n",
            "Min Sample split=15    Accuracy = 1.0\n",
            "Min Sample split=16    Accuracy = 1.0\n",
            "Min Sample split=17    Accuracy = 1.0\n",
            "Min Sample split=18    Accuracy = 1.0\n",
            "Min Sample split=19    Accuracy = 1.0\n",
            "Min Sample split=20    Accuracy = 1.0\n",
            "Min Sample split=21    Accuracy = 1.0\n",
            "Min Sample split=22    Accuracy = 1.0\n",
            "Min Sample split=23    Accuracy = 1.0\n",
            "Min Sample split=24    Accuracy = 1.0\n",
            "Min Sample split=25    Accuracy = 1.0\n",
            "Min Sample split=26    Accuracy = 1.0\n",
            "Min Sample split=27    Accuracy = 1.0\n",
            "Min Sample split=28    Accuracy = 1.0\n",
            "Min Sample split=29    Accuracy = 1.0\n",
            "Min Sample split=30    Accuracy = 1.0\n",
            "Min Sample split=31    Accuracy = 1.0\n",
            "Min Sample split=32    Accuracy = 1.0\n",
            "Min Sample split=33    Accuracy = 1.0\n",
            "Min Sample split=34    Accuracy = 1.0\n",
            "Min Sample split=35    Accuracy = 1.0\n",
            "Min Sample split=36    Accuracy = 1.0\n",
            "Min Sample split=37    Accuracy = 1.0\n",
            "Min Sample split=38    Accuracy = 1.0\n",
            "Min Sample split=39    Accuracy = 1.0\n",
            "Min Sample split=40    Accuracy = 1.0\n",
            "Min Sample split=41    Accuracy = 1.0\n",
            "Min Sample split=42    Accuracy = 1.0\n",
            "Min Sample split=43    Accuracy = 1.0\n",
            "Min Sample split=44    Accuracy = 1.0\n",
            "Min Sample split=45    Accuracy = 1.0\n",
            "Min Sample split=46    Accuracy = 1.0\n",
            "Min Sample split=47    Accuracy = 1.0\n",
            "Min Sample split=48    Accuracy = 1.0\n",
            "Min Sample split=49    Accuracy = 1.0\n",
            "Min Sample split=50    Accuracy = 1.0\n"
          ]
        }
      ],
      "source": [
        "for i in range(2,51):    #33\n",
        "    dt1 =DecisionTreeClassifier(min_samples_split=i)\n",
        "    dt1.fit(X_train,y_train)\n",
        "    y_pred = dt1.predict(X_test)\n",
        "    ac = accuracy_score(y_test,y_pred)\n",
        "    print(f\"Min Sample split={i}    Accuracy = {ac}\")"
      ]
    },
    {
      "cell_type": "code",
      "execution_count": 46,
      "id": "8335b7fd",
      "metadata": {
        "colab": {
          "base_uri": "https://localhost:8080/"
        },
        "id": "8335b7fd",
        "outputId": "036002be-87c2-41f5-c74e-1956aabd3bff"
      },
      "outputs": [
        {
          "output_type": "stream",
          "name": "stdout",
          "text": [
            "Min Sample leaf=1    Accuracy = 1.0\n",
            "Min Sample leaf=2    Accuracy = 1.0\n",
            "Min Sample leaf=3    Accuracy = 1.0\n",
            "Min Sample leaf=4    Accuracy = 1.0\n",
            "Min Sample leaf=5    Accuracy = 1.0\n",
            "Min Sample leaf=6    Accuracy = 1.0\n",
            "Min Sample leaf=7    Accuracy = 1.0\n",
            "Min Sample leaf=8    Accuracy = 1.0\n",
            "Min Sample leaf=9    Accuracy = 1.0\n",
            "Min Sample leaf=10    Accuracy = 1.0\n",
            "Min Sample leaf=11    Accuracy = 1.0\n",
            "Min Sample leaf=12    Accuracy = 1.0\n",
            "Min Sample leaf=13    Accuracy = 1.0\n",
            "Min Sample leaf=14    Accuracy = 1.0\n",
            "Min Sample leaf=15    Accuracy = 1.0\n",
            "Min Sample leaf=16    Accuracy = 1.0\n",
            "Min Sample leaf=17    Accuracy = 1.0\n",
            "Min Sample leaf=18    Accuracy = 1.0\n",
            "Min Sample leaf=19    Accuracy = 1.0\n",
            "Min Sample leaf=20    Accuracy = 1.0\n",
            "Min Sample leaf=21    Accuracy = 1.0\n",
            "Min Sample leaf=22    Accuracy = 1.0\n",
            "Min Sample leaf=23    Accuracy = 1.0\n",
            "Min Sample leaf=24    Accuracy = 1.0\n",
            "Min Sample leaf=25    Accuracy = 1.0\n",
            "Min Sample leaf=26    Accuracy = 1.0\n",
            "Min Sample leaf=27    Accuracy = 1.0\n",
            "Min Sample leaf=28    Accuracy = 1.0\n",
            "Min Sample leaf=29    Accuracy = 1.0\n",
            "Min Sample leaf=30    Accuracy = 1.0\n",
            "Min Sample leaf=31    Accuracy = 1.0\n",
            "Min Sample leaf=32    Accuracy = 1.0\n",
            "Min Sample leaf=33    Accuracy = 1.0\n",
            "Min Sample leaf=34    Accuracy = 1.0\n",
            "Min Sample leaf=35    Accuracy = 1.0\n",
            "Min Sample leaf=36    Accuracy = 1.0\n",
            "Min Sample leaf=37    Accuracy = 1.0\n",
            "Min Sample leaf=38    Accuracy = 1.0\n",
            "Min Sample leaf=39    Accuracy = 1.0\n",
            "Min Sample leaf=40    Accuracy = 1.0\n",
            "Min Sample leaf=41    Accuracy = 1.0\n",
            "Min Sample leaf=42    Accuracy = 1.0\n",
            "Min Sample leaf=43    Accuracy = 1.0\n",
            "Min Sample leaf=44    Accuracy = 1.0\n",
            "Min Sample leaf=45    Accuracy = 1.0\n",
            "Min Sample leaf=46    Accuracy = 1.0\n",
            "Min Sample leaf=47    Accuracy = 1.0\n",
            "Min Sample leaf=48    Accuracy = 1.0\n",
            "Min Sample leaf=49    Accuracy = 1.0\n",
            "Min Sample leaf=50    Accuracy = 1.0\n"
          ]
        }
      ],
      "source": [
        "for i in range(1,51):   #9\n",
        "    dt1 =DecisionTreeClassifier(min_samples_leaf=i)\n",
        "    dt1.fit(X_train,y_train)\n",
        "    y_pred = dt1.predict(X_test)\n",
        "    ac = accuracy_score(y_test,y_pred)\n",
        "    print(f\"Min Sample leaf={i}    Accuracy = {ac}\")"
      ]
    },
    {
      "cell_type": "code",
      "execution_count": 47,
      "id": "4450bcb2",
      "metadata": {
        "id": "4450bcb2"
      },
      "outputs": [],
      "source": [
        "dt = DecisionTreeClassifier(criterion='entropy',max_depth=1,min_samples_split=33,min_samples_leaf=9)"
      ]
    },
    {
      "cell_type": "code",
      "execution_count": 48,
      "id": "1297b27c",
      "metadata": {
        "colab": {
          "base_uri": "https://localhost:8080/"
        },
        "id": "1297b27c",
        "outputId": "d56f0368-a4a7-4712-e23b-c999fe6fcd84"
      },
      "outputs": [
        {
          "output_type": "stream",
          "name": "stdout",
          "text": [
            "Accuracy score : 0.3898128898128898\n",
            "              precision    recall  f1-score   support\n",
            "\n",
            "         0.0       0.49      1.00      0.66       187\n",
            "         1.0       0.00      0.00      0.00       192\n",
            "         2.0       0.32      1.00      0.49       188\n",
            "         3.0       0.00      0.00      0.00       193\n",
            "         4.0       0.00      0.00      0.00       202\n",
            "\n",
            "    accuracy                           0.39       962\n",
            "   macro avg       0.16      0.40      0.23       962\n",
            "weighted avg       0.16      0.39      0.22       962\n",
            "\n",
            "Training performance : 0.40436914846188143\n",
            "testing performance : 0.3898128898128898\n"
          ]
        }
      ],
      "source": [
        "mymodel(dt)"
      ]
    },
    {
      "cell_type": "code",
      "execution_count": 49,
      "id": "6c24109a",
      "metadata": {
        "id": "6c24109a"
      },
      "outputs": [],
      "source": [
        "dt = DecisionTreeClassifier(max_depth=1,min_samples_split=33,min_samples_leaf=9)"
      ]
    },
    {
      "cell_type": "code",
      "execution_count": 50,
      "id": "ede5858b",
      "metadata": {
        "colab": {
          "base_uri": "https://localhost:8080/"
        },
        "id": "ede5858b",
        "outputId": "af21d437-9955-4d4f-957a-f7277935f45e"
      },
      "outputs": [
        {
          "output_type": "stream",
          "name": "stdout",
          "text": [
            "Accuracy score : 0.3898128898128898\n",
            "              precision    recall  f1-score   support\n",
            "\n",
            "         0.0       1.00      1.00      1.00       187\n",
            "         1.0       0.00      0.00      0.00       192\n",
            "         2.0       0.24      1.00      0.39       188\n",
            "         3.0       0.00      0.00      0.00       193\n",
            "         4.0       0.00      0.00      0.00       202\n",
            "\n",
            "    accuracy                           0.39       962\n",
            "   macro avg       0.25      0.40      0.28       962\n",
            "weighted avg       0.24      0.39      0.27       962\n",
            "\n",
            "Training performance : 0.40436914846188143\n",
            "testing performance : 0.3898128898128898\n"
          ]
        }
      ],
      "source": [
        "mymodel(dt)"
      ]
    },
    {
      "cell_type": "code",
      "source": [
        "logreg = LogisticRegression(multi_class='ovr')\n",
        "logreg.fit(X_train,y_train)\n",
        "y_pred = logreg.predict(X_test)\n",
        "print('Accuracy score :',accuracy_score(y_test,y_pred))\n",
        "print(classification_report(y_test,y_pred))\n",
        "\n",
        "train = logreg.score(X_train,y_train)\n",
        "test  = logreg.score(X_test,y_test)\n",
        "print('Training performance :',train)\n",
        "print('testing performance :',test)"
      ],
      "metadata": {
        "colab": {
          "base_uri": "https://localhost:8080/"
        },
        "id": "f82gZJZT-wCf",
        "outputId": "ecedce4c-2a8e-4838-82f4-2a0b1d04ce97"
      },
      "id": "f82gZJZT-wCf",
      "execution_count": 51,
      "outputs": [
        {
          "output_type": "stream",
          "name": "stdout",
          "text": [
            "Accuracy score : 0.8970893970893971\n",
            "              precision    recall  f1-score   support\n",
            "\n",
            "         0.0       1.00      1.00      1.00       187\n",
            "         1.0       0.84      0.77      0.80       192\n",
            "         2.0       0.77      0.78      0.77       188\n",
            "         3.0       0.87      0.98      0.92       193\n",
            "         4.0       1.00      0.96      0.98       202\n",
            "\n",
            "    accuracy                           0.90       962\n",
            "   macro avg       0.90      0.90      0.90       962\n",
            "weighted avg       0.90      0.90      0.90       962\n",
            "\n",
            "Training performance : 0.8996879179670084\n",
            "testing performance : 0.8970893970893971\n"
          ]
        }
      ]
    },
    {
      "cell_type": "code",
      "source": [
        "logreg = LogisticRegression(multi_class='multinomial')\n",
        "logreg.fit(X_train,y_train)\n",
        "y_pred = logreg.predict(X_test)\n",
        "print('Accuracy score :',accuracy_score(y_test,y_pred))\n",
        "print(classification_report(y_test,y_pred))\n",
        "\n",
        "train = logreg.score(X_train,y_train)\n",
        "test  = logreg.score(X_test,y_test)\n",
        "print('Training performance :',train)\n",
        "print('testing performance :',test)"
      ],
      "metadata": {
        "colab": {
          "base_uri": "https://localhost:8080/"
        },
        "id": "gntg_9COAI6t",
        "outputId": "33545d95-ff98-4d2e-d73c-bbf17043d6e1"
      },
      "id": "gntg_9COAI6t",
      "execution_count": 52,
      "outputs": [
        {
          "output_type": "stream",
          "name": "stdout",
          "text": [
            "Accuracy score : 0.9823284823284824\n",
            "              precision    recall  f1-score   support\n",
            "\n",
            "         0.0       0.99      1.00      1.00       187\n",
            "         1.0       1.00      0.99      1.00       192\n",
            "         2.0       1.00      0.96      0.98       188\n",
            "         3.0       0.93      0.99      0.96       193\n",
            "         4.0       0.99      0.97      0.98       202\n",
            "\n",
            "    accuracy                           0.98       962\n",
            "   macro avg       0.98      0.98      0.98       962\n",
            "weighted avg       0.98      0.98      0.98       962\n",
            "\n",
            "Training performance : 0.9866250557289344\n",
            "testing performance : 0.9823284823284824\n"
          ]
        }
      ]
    },
    {
      "cell_type": "code",
      "source": [
        "logreg = LogisticRegression(multi_class='multinomial',solver='saga')\n",
        "logreg.fit(X_train,y_train)\n",
        "y_pred = logreg.predict(X_test)\n",
        "print('Accuracy score :',accuracy_score(y_test,y_pred))\n",
        "print(classification_report(y_test,y_pred))\n",
        "\n",
        "train = logreg.score(X_train,y_train)\n",
        "test  = logreg.score(X_test,y_test)\n",
        "print('Training performance :',train)\n",
        "print('testing performance :',test)"
      ],
      "metadata": {
        "colab": {
          "base_uri": "https://localhost:8080/"
        },
        "id": "iqngUklaAcqX",
        "outputId": "387610c5-8436-434b-da7a-af21e75690f1"
      },
      "id": "iqngUklaAcqX",
      "execution_count": 53,
      "outputs": [
        {
          "output_type": "stream",
          "name": "stdout",
          "text": [
            "Accuracy score : 0.9386694386694386\n",
            "              precision    recall  f1-score   support\n",
            "\n",
            "         0.0       1.00      1.00      1.00       187\n",
            "         1.0       0.95      0.95      0.95       192\n",
            "         2.0       0.92      0.87      0.90       188\n",
            "         3.0       0.88      0.95      0.91       193\n",
            "         4.0       0.95      0.93      0.94       202\n",
            "\n",
            "    accuracy                           0.94       962\n",
            "   macro avg       0.94      0.94      0.94       962\n",
            "weighted avg       0.94      0.94      0.94       962\n",
            "\n",
            "Training performance : 0.9469460543914401\n",
            "testing performance : 0.9386694386694386\n"
          ]
        }
      ]
    },
    {
      "cell_type": "markdown",
      "id": "aa591100",
      "metadata": {
        "id": "aa591100"
      },
      "source": [
        "### BEST module"
      ]
    },
    {
      "cell_type": "code",
      "execution_count": 54,
      "id": "d1f63c44",
      "metadata": {
        "colab": {
          "base_uri": "https://localhost:8080/"
        },
        "id": "d1f63c44",
        "outputId": "3db083f6-9e19-4a54-91b7-7822c7db75dc"
      },
      "outputs": [
        {
          "output_type": "stream",
          "name": "stdout",
          "text": [
            "Accuracy score : 0.9823284823284824\n",
            "              precision    recall  f1-score   support\n",
            "\n",
            "         0.0       0.99      1.00      1.00       187\n",
            "         1.0       1.00      0.99      1.00       192\n",
            "         2.0       1.00      0.96      0.98       188\n",
            "         3.0       0.93      0.99      0.96       193\n",
            "         4.0       0.99      0.97      0.98       202\n",
            "\n",
            "    accuracy                           0.98       962\n",
            "   macro avg       0.98      0.98      0.98       962\n",
            "weighted avg       0.98      0.98      0.98       962\n",
            "\n",
            "Training performance : 0.9866250557289344\n",
            "testing performance : 0.9823284823284824\n"
          ]
        }
      ],
      "source": [
        "logreg = LogisticRegression(multi_class='multinomial')\n",
        "logreg.fit(X_train,y_train)\n",
        "y_pred = logreg.predict(X_test)\n",
        "print('Accuracy score :',accuracy_score(y_test,y_pred))\n",
        "print(classification_report(y_test,y_pred))\n",
        "\n",
        "train = logreg.score(X_train,y_train)\n",
        "test  = logreg.score(X_test,y_test)\n",
        "print('Training performance :',train)\n",
        "print('testing performance :',test)"
      ]
    },
    {
      "cell_type": "code",
      "source": [
        "svm = SVC(C = 100.0,gamma=1)\n",
        "svm.fit(X_train,y_train)\n",
        "y_pred = svm.predict(X_test)\n",
        "print('Accuracy score :',accuracy_score(y_test,y_pred))\n",
        "print(classification_report(y_test,y_pred))\n",
        "\n",
        "train = svm.score(X_train,y_train)\n",
        "test  = svm.score(X_test,y_test)\n",
        "print('Training performance :',train)\n",
        "print('testing performance :',test)"
      ],
      "metadata": {
        "colab": {
          "base_uri": "https://localhost:8080/"
        },
        "id": "68CQxO0-gEvQ",
        "outputId": "3515f569-7bd2-49d7-fd6a-e27a7210efef"
      },
      "id": "68CQxO0-gEvQ",
      "execution_count": 55,
      "outputs": [
        {
          "output_type": "stream",
          "name": "stdout",
          "text": [
            "Accuracy score : 0.9896049896049897\n",
            "              precision    recall  f1-score   support\n",
            "\n",
            "         0.0       1.00      0.99      0.99       187\n",
            "         1.0       0.99      1.00      1.00       192\n",
            "         2.0       1.00      0.96      0.98       188\n",
            "         3.0       1.00      1.00      1.00       193\n",
            "         4.0       0.96      1.00      0.98       202\n",
            "\n",
            "    accuracy                           0.99       962\n",
            "   macro avg       0.99      0.99      0.99       962\n",
            "weighted avg       0.99      0.99      0.99       962\n",
            "\n",
            "Training performance : 1.0\n",
            "testing performance : 0.9896049896049897\n"
          ]
        }
      ]
    },
    {
      "cell_type": "markdown",
      "id": "b62656f2",
      "metadata": {
        "id": "b62656f2"
      },
      "source": [
        "## Conclusion"
      ]
    },
    {
      "cell_type": "markdown",
      "id": "34420863",
      "metadata": {
        "id": "34420863"
      },
      "source": [
        "- In this machine learning project, we explored the use of different algorithms such as decision tree, Knearest neighbors (KNN), logistic regression, and support vector machine (SVM) to predict whether a weather will be dizzy, suny, rainy, fog,snow. We used a Weather forcasting dataset containing tempreture information to train and test our models.\n",
        "- Through our experimentation, we found that logistic Regression algorithm performed the best with the highest accuracy score. This model can be used by weather forcasting team to identify potential risk of natural disaster or other circumstances.\n"
      ]
    },
    {
      "cell_type": "code",
      "execution_count": 55,
      "id": "caabe777",
      "metadata": {
        "id": "caabe777"
      },
      "outputs": [],
      "source": []
    }
  ],
  "metadata": {
    "kernelspec": {
      "display_name": "Python 3 (ipykernel)",
      "language": "python",
      "name": "python3"
    },
    "language_info": {
      "codemirror_mode": {
        "name": "ipython",
        "version": 3
      },
      "file_extension": ".py",
      "mimetype": "text/x-python",
      "name": "python",
      "nbconvert_exporter": "python",
      "pygments_lexer": "ipython3",
      "version": "3.9.13"
    },
    "colab": {
      "provenance": []
    }
  },
  "nbformat": 4,
  "nbformat_minor": 5
}