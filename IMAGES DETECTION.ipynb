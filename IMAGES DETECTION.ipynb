{
 "cells": [
  {
   "cell_type": "markdown",
   "id": "58dd2c55",
   "metadata": {},
   "source": [
    "### LICENSE PLATE DETECTOR"
   ]
  },
  {
   "cell_type": "code",
   "execution_count": 16,
   "id": "96d01034",
   "metadata": {},
   "outputs": [
    {
     "name": "stdout",
     "output_type": "stream",
     "text": [
      "Requirement already satisfied: opencv-contrib-python in c:\\users\\shivani\\anaconda3\\lib\\site-packages (4.7.0.72)\n",
      "Requirement already satisfied: numpy>=1.19.3 in c:\\users\\shivani\\anaconda3\\lib\\site-packages (from opencv-contrib-python) (1.21.5)\n"
     ]
    }
   ],
   "source": [
    "!pip install opencv-contrib-python"
   ]
  },
  {
   "cell_type": "code",
   "execution_count": 17,
   "id": "7321b020",
   "metadata": {},
   "outputs": [],
   "source": [
    "import cv2"
   ]
  },
  {
   "cell_type": "code",
   "execution_count": 18,
   "id": "0fbfd0b5",
   "metadata": {},
   "outputs": [],
   "source": [
    "numberplate_cascade = cv2.CascadeClassifier('haarcascade_license_plate_rus_16stages.xml')"
   ]
  },
  {
   "cell_type": "code",
   "execution_count": 19,
   "id": "7ec1a11a",
   "metadata": {},
   "outputs": [],
   "source": [
    "img1 = cv2.imread(\"WhatsApp Image 2023-06-22 at 1.32.04 PM (1).jpeg\")\n",
    "img1_copy = img1.copy()\n",
    "\n",
    "numberplate_rects = numberplate_cascade.detectMultiScale(img1_copy)\n",
    "\n",
    "for (x,y,w,h) in numberplate_rects:\n",
    "    cv2.rectangle(img1_copy, (x,y), (x+w,y+h), (0,255,0),3)\n",
    "    cv2.putText(img1_copy,'DETECTED',(x,y),cv2.FONT_HERSHEY_COMPLEX,0.5,(0,255,255),1)\n",
    "\n",
    "cv2.imshow(\"license detection\",img1_copy)\n",
    "cv2.waitKey(0)\n",
    "cv2.destroyAllWindows()"
   ]
  },
  {
   "cell_type": "markdown",
   "id": "655deb14",
   "metadata": {},
   "source": [
    "### SMILE DETECTOR"
   ]
  },
  {
   "cell_type": "code",
   "execution_count": 13,
   "id": "1c785798",
   "metadata": {},
   "outputs": [],
   "source": [
    "smile_cascade = cv2.CascadeClassifier('haarcascade_smile.xml')"
   ]
  },
  {
   "cell_type": "code",
   "execution_count": 15,
   "id": "a794908e",
   "metadata": {},
   "outputs": [],
   "source": [
    "img1 = cv2.imread(\"WhatsApp Image 2023-06-22 at 1.32.04 PM (2).jpeg\")\n",
    "img1_copy = img1.copy()\n",
    "\n",
    "smile_rects = smile_cascade.detectMultiScale(img1_copy, scaleFactor=1.8, minNeighbors=20)\n",
    "\n",
    "for (x,y,w,h) in smile_rects:\n",
    "    cv2.rectangle(img1_copy, (x,y), (x+w,y+h), (0,255,0),3)\n",
    "\n",
    "cv2.imshow(\"smile\",img1_copy)\n",
    "cv2.waitKey(0)\n",
    "cv2.destroyAllWindows()"
   ]
  },
  {
   "cell_type": "code",
   "execution_count": null,
   "id": "c8b83592",
   "metadata": {},
   "outputs": [],
   "source": []
  },
  {
   "cell_type": "code",
   "execution_count": null,
   "id": "ffca6e3c",
   "metadata": {},
   "outputs": [],
   "source": []
  }
 ],
 "metadata": {
  "kernelspec": {
   "display_name": "Python 3 (ipykernel)",
   "language": "python",
   "name": "python3"
  },
  "language_info": {
   "codemirror_mode": {
    "name": "ipython",
    "version": 3
   },
   "file_extension": ".py",
   "mimetype": "text/x-python",
   "name": "python",
   "nbconvert_exporter": "python",
   "pygments_lexer": "ipython3",
   "version": "3.9.13"
  }
 },
 "nbformat": 4,
 "nbformat_minor": 5
}
